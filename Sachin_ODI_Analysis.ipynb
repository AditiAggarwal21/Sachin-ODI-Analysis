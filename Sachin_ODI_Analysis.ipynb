{
 "cells": [
  {
   "cell_type": "markdown",
   "id": "0f3ef902-c95a-451e-8ef5-80bbdf127f74",
   "metadata": {},
   "source": [
    "# *Exploratory Data Analysis on Sachin Tendulkar's ODI Career*"
   ]
  },
  {
   "cell_type": "markdown",
   "id": "64579042-5878-47c0-994c-e439496d9105",
   "metadata": {},
   "source": [
    "### 🔧 Import Required Libraries"
   ]
  },
  {
   "cell_type": "code",
   "execution_count": 96,
   "id": "67b68be0-7934-4676-a024-f9e576622ecb",
   "metadata": {},
   "outputs": [],
   "source": [
    "import pandas as pd\n",
    "import numpy as np\n",
    "import matplotlib.pyplot as plt\n",
    "import seaborn as sns\n",
    "import plotly.express as px\n",
    "import plotly.graph_objects as go\n",
    "import requests\n",
    "from bs4 import BeautifulSoup\n",
    "import warnings\n",
    "warnings.filterwarnings('ignore')"
   ]
  },
  {
   "cell_type": "markdown",
   "id": "3bce4b84-bd68-4743-b013-f2443a974eec",
   "metadata": {},
   "source": [
    "### 🔵Seaborn & Matplotlib Theme"
   ]
  },
  {
   "cell_type": "code",
   "execution_count": 98,
   "id": "66af1799-a8ed-48f7-afc8-051b791b80c8",
   "metadata": {},
   "outputs": [],
   "source": [
    "sns.set_theme(style=\"whitegrid\", palette=\"deep\")\n",
    "plt.rcParams[\"figure.figsize\"] = (10, 6)\n",
    "plt.rcParams[\"axes.edgecolor\"] = \"gray\"\n",
    "plt.rcParams[\"axes.linewidth\"] = 1.2"
   ]
  },
  {
   "cell_type": "markdown",
   "id": "10ad8a04-6d7d-47a5-81fd-a2c3dec4d753",
   "metadata": {},
   "source": [
    "### 📥 Load the Dataset"
   ]
  },
  {
   "cell_type": "code",
   "execution_count": 100,
   "id": "9a13908f-06c7-49a1-b3d0-c285c555e7a5",
   "metadata": {},
   "outputs": [
    {
     "data": {
      "text/html": [
       "<div>\n",
       "<style scoped>\n",
       "    .dataframe tbody tr th:only-of-type {\n",
       "        vertical-align: middle;\n",
       "    }\n",
       "\n",
       "    .dataframe tbody tr th {\n",
       "        vertical-align: top;\n",
       "    }\n",
       "\n",
       "    .dataframe thead th {\n",
       "        text-align: right;\n",
       "    }\n",
       "</style>\n",
       "<table border=\"1\" class=\"dataframe\">\n",
       "  <thead>\n",
       "    <tr style=\"text-align: right;\">\n",
       "      <th></th>\n",
       "      <th>batting_score</th>\n",
       "      <th>wickets</th>\n",
       "      <th>runs_conceded</th>\n",
       "      <th>catches</th>\n",
       "      <th>stumps</th>\n",
       "      <th>opposition</th>\n",
       "      <th>ground</th>\n",
       "      <th>date</th>\n",
       "      <th>match_result</th>\n",
       "      <th>result_margin</th>\n",
       "      <th>toss</th>\n",
       "      <th>batting_innings</th>\n",
       "    </tr>\n",
       "  </thead>\n",
       "  <tbody>\n",
       "    <tr>\n",
       "      <th>0</th>\n",
       "      <td>0</td>\n",
       "      <td>-</td>\n",
       "      <td>-</td>\n",
       "      <td>0</td>\n",
       "      <td>0</td>\n",
       "      <td>v Pakistan</td>\n",
       "      <td>Gujranwala</td>\n",
       "      <td>18-Dec-89</td>\n",
       "      <td>lost</td>\n",
       "      <td>7 runs</td>\n",
       "      <td>won</td>\n",
       "      <td>2nd</td>\n",
       "    </tr>\n",
       "    <tr>\n",
       "      <th>1</th>\n",
       "      <td>0</td>\n",
       "      <td>-</td>\n",
       "      <td>-</td>\n",
       "      <td>0</td>\n",
       "      <td>0</td>\n",
       "      <td>v New Zealand</td>\n",
       "      <td>Dunedin</td>\n",
       "      <td>01-Mar-90</td>\n",
       "      <td>lost</td>\n",
       "      <td>108 runs</td>\n",
       "      <td>won</td>\n",
       "      <td>2nd</td>\n",
       "    </tr>\n",
       "    <tr>\n",
       "      <th>2</th>\n",
       "      <td>36</td>\n",
       "      <td>-</td>\n",
       "      <td>-</td>\n",
       "      <td>0</td>\n",
       "      <td>0</td>\n",
       "      <td>v New Zealand</td>\n",
       "      <td>Wellington</td>\n",
       "      <td>06-Mar-90</td>\n",
       "      <td>won</td>\n",
       "      <td>1 runs</td>\n",
       "      <td>won</td>\n",
       "      <td>1st</td>\n",
       "    </tr>\n",
       "    <tr>\n",
       "      <th>3</th>\n",
       "      <td>10</td>\n",
       "      <td>-</td>\n",
       "      <td>-</td>\n",
       "      <td>1</td>\n",
       "      <td>0</td>\n",
       "      <td>v Sri Lanka</td>\n",
       "      <td>Sharjah</td>\n",
       "      <td>25-Apr-90</td>\n",
       "      <td>lost</td>\n",
       "      <td>3 wickets</td>\n",
       "      <td>lost</td>\n",
       "      <td>1st</td>\n",
       "    </tr>\n",
       "    <tr>\n",
       "      <th>4</th>\n",
       "      <td>20</td>\n",
       "      <td>-</td>\n",
       "      <td>-</td>\n",
       "      <td>0</td>\n",
       "      <td>0</td>\n",
       "      <td>v Pakistan</td>\n",
       "      <td>Sharjah</td>\n",
       "      <td>27-Apr-90</td>\n",
       "      <td>lost</td>\n",
       "      <td>26 runs</td>\n",
       "      <td>won</td>\n",
       "      <td>2nd</td>\n",
       "    </tr>\n",
       "    <tr>\n",
       "      <th>5</th>\n",
       "      <td>19</td>\n",
       "      <td>-</td>\n",
       "      <td>-</td>\n",
       "      <td>0</td>\n",
       "      <td>0</td>\n",
       "      <td>v England</td>\n",
       "      <td>Leeds</td>\n",
       "      <td>18-Jul-90</td>\n",
       "      <td>won</td>\n",
       "      <td>6 wickets</td>\n",
       "      <td>won</td>\n",
       "      <td>2nd</td>\n",
       "    </tr>\n",
       "    <tr>\n",
       "      <th>6</th>\n",
       "      <td>31</td>\n",
       "      <td>0</td>\n",
       "      <td>10</td>\n",
       "      <td>0</td>\n",
       "      <td>0</td>\n",
       "      <td>v England</td>\n",
       "      <td>Nottingham</td>\n",
       "      <td>20-Jul-90</td>\n",
       "      <td>won</td>\n",
       "      <td>5 wickets</td>\n",
       "      <td>won</td>\n",
       "      <td>2nd</td>\n",
       "    </tr>\n",
       "    <tr>\n",
       "      <th>7</th>\n",
       "      <td>36</td>\n",
       "      <td>-</td>\n",
       "      <td>-</td>\n",
       "      <td>0</td>\n",
       "      <td>0</td>\n",
       "      <td>v Sri Lanka</td>\n",
       "      <td>Nagpur</td>\n",
       "      <td>01-Dec-90</td>\n",
       "      <td>won</td>\n",
       "      <td>19 runs</td>\n",
       "      <td>lost</td>\n",
       "      <td>1st</td>\n",
       "    </tr>\n",
       "    <tr>\n",
       "      <th>8</th>\n",
       "      <td>53</td>\n",
       "      <td>2</td>\n",
       "      <td>39</td>\n",
       "      <td>2</td>\n",
       "      <td>0</td>\n",
       "      <td>v Sri Lanka</td>\n",
       "      <td>Pune</td>\n",
       "      <td>05-Dec-90</td>\n",
       "      <td>won</td>\n",
       "      <td>6 wickets</td>\n",
       "      <td>won</td>\n",
       "      <td>2nd</td>\n",
       "    </tr>\n",
       "    <tr>\n",
       "      <th>9</th>\n",
       "      <td>30</td>\n",
       "      <td>-</td>\n",
       "      <td>-</td>\n",
       "      <td>0</td>\n",
       "      <td>0</td>\n",
       "      <td>v Sri Lanka</td>\n",
       "      <td>Margao</td>\n",
       "      <td>08-Dec-90</td>\n",
       "      <td>lost</td>\n",
       "      <td>7 wickets</td>\n",
       "      <td>won</td>\n",
       "      <td>1st</td>\n",
       "    </tr>\n",
       "  </tbody>\n",
       "</table>\n",
       "</div>"
      ],
      "text/plain": [
       "  batting_score wickets runs_conceded catches stumps     opposition  \\\n",
       "0             0       -             -       0      0     v Pakistan   \n",
       "1             0       -             -       0      0  v New Zealand   \n",
       "2            36       -             -       0      0  v New Zealand   \n",
       "3            10       -             -       1      0    v Sri Lanka   \n",
       "4            20       -             -       0      0     v Pakistan   \n",
       "5            19       -             -       0      0      v England   \n",
       "6            31       0            10       0      0      v England   \n",
       "7            36       -             -       0      0    v Sri Lanka   \n",
       "8            53       2            39       2      0    v Sri Lanka   \n",
       "9            30       -             -       0      0    v Sri Lanka   \n",
       "\n",
       "       ground       date match_result result_margin  toss batting_innings  \n",
       "0  Gujranwala  18-Dec-89         lost        7 runs   won             2nd  \n",
       "1     Dunedin  01-Mar-90         lost      108 runs   won             2nd  \n",
       "2  Wellington  06-Mar-90          won        1 runs   won             1st  \n",
       "3     Sharjah  25-Apr-90         lost     3 wickets  lost             1st  \n",
       "4     Sharjah  27-Apr-90         lost       26 runs   won             2nd  \n",
       "5       Leeds  18-Jul-90          won     6 wickets   won             2nd  \n",
       "6  Nottingham  20-Jul-90          won     5 wickets   won             2nd  \n",
       "7      Nagpur  01-Dec-90          won       19 runs  lost             1st  \n",
       "8        Pune  05-Dec-90          won     6 wickets   won             2nd  \n",
       "9      Margao  08-Dec-90         lost     7 wickets   won             1st  "
      ]
     },
     "execution_count": 100,
     "metadata": {},
     "output_type": "execute_result"
    }
   ],
   "source": [
    "df = pd.read_csv(\"sachin_odi.csv\")\n",
    "df.head(10)"
   ]
  },
  {
   "cell_type": "markdown",
   "id": "76f99bad-c3be-4f12-8529-c9809ccfb55d",
   "metadata": {},
   "source": [
    "### 🧹 Data Cleaning and Feature Engineering"
   ]
  },
  {
   "cell_type": "markdown",
   "id": "5331a244-2dd8-4cd2-8e0f-b4d7150d1c8b",
   "metadata": {},
   "source": [
    "#### Batting Score Cleanup"
   ]
  },
  {
   "cell_type": "code",
   "execution_count": 103,
   "id": "6e52835e-ec6c-4c57-a6c0-7e53ed49b036",
   "metadata": {},
   "outputs": [
    {
     "data": {
      "text/plain": [
       "0      0.0\n",
       "1      0.0\n",
       "2     36.0\n",
       "3     10.0\n",
       "4     20.0\n",
       "5     19.0\n",
       "6     31.0\n",
       "7     36.0\n",
       "8     53.0\n",
       "9     30.0\n",
       "10     NaN\n",
       "11     4.0\n",
       "12    53.0\n",
       "13    52.0\n",
       "14    22.0\n",
       "15    11.0\n",
       "16    49.0\n",
       "17     0.0\n",
       "18    62.0\n",
       "19     4.0\n",
       "Name: batting_score_clean, dtype: float64"
      ]
     },
     "execution_count": 103,
     "metadata": {},
     "output_type": "execute_result"
    }
   ],
   "source": [
    "df['not_out'] = df['batting_score'].astype(str).str.contains('*', regex=False)\n",
    "df['batting_score_clean'] = df['batting_score'].replace('[^0-9]', '', regex=True)\n",
    "df['batting_score_clean'] = pd.to_numeric(df['batting_score_clean'], errors='coerce')\n",
    "df.batting_score_clean.head(20)"
   ]
  },
  {
   "cell_type": "markdown",
   "id": "32f3b942-a259-4702-9fb7-6b181796bcae",
   "metadata": {},
   "source": [
    "#### Wickets Cleanup"
   ]
  },
  {
   "cell_type": "code",
   "execution_count": 105,
   "id": "e23b31a7-4ad8-40d7-8ce4-f9dbe62a7935",
   "metadata": {},
   "outputs": [
    {
     "data": {
      "text/plain": [
       "0     NaN\n",
       "1     NaN\n",
       "2     NaN\n",
       "3     NaN\n",
       "4     NaN\n",
       "5     NaN\n",
       "6     0.0\n",
       "7     NaN\n",
       "8     2.0\n",
       "9     NaN\n",
       "10    0.0\n",
       "11    NaN\n",
       "12    NaN\n",
       "13    NaN\n",
       "14    NaN\n",
       "15    4.0\n",
       "16    0.0\n",
       "17    0.0\n",
       "18    1.0\n",
       "19    0.0\n",
       "Name: new_wickets, dtype: float64"
      ]
     },
     "execution_count": 105,
     "metadata": {},
     "output_type": "execute_result"
    }
   ],
   "source": [
    "df['new_wickets'] = df['wickets'].replace('-', np.nan).astype(float)\n",
    "df.new_wickets.head(20)"
   ]
  },
  {
   "cell_type": "markdown",
   "id": "62a19eaf-469c-4a38-892b-69e30e0facdf",
   "metadata": {},
   "source": [
    "#### Other numerical columns"
   ]
  },
  {
   "cell_type": "code",
   "execution_count": 107,
   "id": "0cca19ac-9cb0-434f-ad97-a4e648ff4719",
   "metadata": {},
   "outputs": [
    {
     "name": "stdout",
     "output_type": "stream",
     "text": [
      "Runs Conceded:\n",
      " 0      NaN\n",
      "1      NaN\n",
      "2      NaN\n",
      "3      NaN\n",
      "4      NaN\n",
      "5      NaN\n",
      "6     10.0\n",
      "7      NaN\n",
      "8     39.0\n",
      "9      NaN\n",
      "10    15.0\n",
      "11     NaN\n",
      "12     NaN\n",
      "13     NaN\n",
      "14     NaN\n",
      "15    34.0\n",
      "16    20.0\n",
      "17    24.0\n",
      "18    27.0\n",
      "19    31.0\n",
      "Name: runs_conceded, dtype: float64\n",
      "Catches:\n",
      " 0     0.0\n",
      "1     0.0\n",
      "2     0.0\n",
      "3     1.0\n",
      "4     0.0\n",
      "5     0.0\n",
      "6     0.0\n",
      "7     0.0\n",
      "8     2.0\n",
      "9     0.0\n",
      "10    0.0\n",
      "11    0.0\n",
      "12    0.0\n",
      "13    0.0\n",
      "14    0.0\n",
      "15    0.0\n",
      "16    1.0\n",
      "17    0.0\n",
      "18    0.0\n",
      "19    0.0\n",
      "Name: catches, dtype: float64\n",
      "Stumps:\n",
      " 0     0.0\n",
      "1     0.0\n",
      "2     0.0\n",
      "3     0.0\n",
      "4     0.0\n",
      "5     0.0\n",
      "6     0.0\n",
      "7     0.0\n",
      "8     0.0\n",
      "9     0.0\n",
      "10    0.0\n",
      "11    0.0\n",
      "12    0.0\n",
      "13    0.0\n",
      "14    0.0\n",
      "15    0.0\n",
      "16    0.0\n",
      "17    0.0\n",
      "18    0.0\n",
      "19    0.0\n",
      "Name: stumps, dtype: float64\n"
     ]
    }
   ],
   "source": [
    "df['runs_conceded'] = pd.to_numeric(df['runs_conceded'], errors='coerce')\n",
    "print('Runs Conceded:\\n',df.runs_conceded.head(20))\n",
    "df['catches'] = pd.to_numeric(df['catches'], errors='coerce')\n",
    "print('Catches:\\n',df.catches.head(20))\n",
    "df['stumps'] = pd.to_numeric(df['stumps'], errors='coerce')\n",
    "print('Stumps:\\n',df.stumps.head(20))"
   ]
  },
  {
   "cell_type": "markdown",
   "id": "8daadcb6-3dfc-4fdf-8f94-6968a4357ece",
   "metadata": {},
   "source": [
    "## 📊 Univariate Analysis "
   ]
  },
  {
   "cell_type": "markdown",
   "id": "692fadc1-be97-4ee1-8fb2-ac25f105a6b8",
   "metadata": {},
   "source": [
    "### Batting Score Distribution"
   ]
  },
  {
   "cell_type": "code",
   "execution_count": 179,
   "id": "f71bde46-5ae1-4495-94c9-bede9715f118",
   "metadata": {},
   "outputs": [
    {
     "data": {
      "image/png": "[encoded data removed]",
      "text/plain": [
       "<Figure size 1000x600 with 1 Axes>"
      ]
     },
     "metadata": {},
     "output_type": "display_data"
    }
   ],
   "source": [
    "plt.figure(figsize=(10,6))\n",
    "sns.histplot(df['batting_score_clean'].dropna(), \n",
    "             bins=30, kde=True, color='royalblue', edgecolor='black')\n",
    "plt.title(\"Distribution of Batting Scores\", fontsize=16, weight='bold')\n",
    "plt.xlabel(\"Runs\", fontsize=12)\n",
    "plt.ylabel(\"Frequency\", fontsize=12)\n",
    "plt.grid(True, linestyle='--', alpha=0.5)\n",
    "plt.savefig(\"Distribution_Of_Batting_Score.png\")\n",
    "plt.show()"
   ]
  },
  {
   "cell_type": "markdown",
   "id": "c728cc13-d891-42d5-a7c2-476abd9b9e7e",
   "metadata": {},
   "source": [
    "##### Centuries and Half Centuries"
   ]
  },
  {
   "cell_type": "code",
   "execution_count": 112,
   "id": "fee0efac-0c0b-4bb6-94b1-356df1f0983a",
   "metadata": {},
   "outputs": [
    {
     "name": "stdout",
     "output_type": "stream",
     "text": [
      "Total Centuries: 49\n",
      "Total Half Centuries: 96\n"
     ]
    }
   ],
   "source": [
    "centuries = df[df['batting_score_clean'] >= 100].shape[0]\n",
    "half_centuries = df[(df['batting_score_clean'] >= 50) & (df['batting_score_clean'] < 100)].shape[0]\n",
    "print(f\"Total Centuries: {centuries}\")\n",
    "print(f\"Total Half Centuries: {half_centuries}\")"
   ]
  },
  {
   "cell_type": "markdown",
   "id": "e06ae77c-a8f5-4987-b9b5-4842ff5dde84",
   "metadata": {},
   "source": [
    "### Wickets Taken"
   ]
  },
  {
   "cell_type": "code",
   "execution_count": 181,
   "id": "4c518aa1-10ab-4731-94ec-984942dc7749",
   "metadata": {},
   "outputs": [
    {
     "data": {
      "image/png": "[encoded data removed]",
      "text/plain": [
       "<Figure size 800x500 with 1 Axes>"
      ]
     },
     "metadata": {},
     "output_type": "display_data"
    }
   ],
   "source": [
    "plt.figure(figsize=(8,5))\n",
    "sns.boxplot(df['new_wickets'], color='gainsboro')\n",
    "plt.title(\"Wickets Distribution\", fontsize=15, weight='bold')\n",
    "plt.grid(True, linestyle=':', alpha=0.4)\n",
    "plt.savefig(\"Wickets_Distribution.png\")\n",
    "plt.show()"
   ]
  },
  {
   "cell_type": "markdown",
   "id": "d334831f-6342-4694-bb96-2eb061267b44",
   "metadata": {},
   "source": [
    "### 🔥. Runs_Conceded"
   ]
  },
  {
   "cell_type": "code",
   "execution_count": 183,
   "id": "78b5f056-bce9-41b6-99b6-088e8be45d51",
   "metadata": {},
   "outputs": [
    {
     "data": {
      "image/png": "[encoded data removed]",
      "text/plain": [
       "<Figure size 1000x600 with 1 Axes>"
      ]
     },
     "metadata": {},
     "output_type": "display_data"
    }
   ],
   "source": [
    "df['runs_conceded'] = pd.to_numeric(df['runs_conceded'], errors='coerce')\n",
    "plt.figure(figsize=(10,6))\n",
    "sns.histplot(df['runs_conceded'].dropna(), bins=30, kde=True, color='tomato')\n",
    "plt.title(\"Runs Conceded Distribution\")\n",
    "plt.xlabel(\"Runs Conceded\")\n",
    "plt.ylabel(\"Frequency\")\n",
    "plt.grid(True)\n",
    "plt.savefig(\"Runs_Conceded_Distribution.png\")\n",
    "plt.show()"
   ]
  },
  {
   "cell_type": "markdown",
   "id": "78cefce5-a2d7-4a7f-bdb6-aaa9683fc3f8",
   "metadata": {},
   "source": [
    "### 🧤 Catches"
   ]
  },
  {
   "cell_type": "code",
   "execution_count": 185,
   "id": "c5a86774-7f1c-43a7-bd8c-a8f5a8c5c8f1",
   "metadata": {},
   "outputs": [
    {
     "data": {
      "image/png": "[encoded data removed]",
      "text/plain": [
       "<Figure size 1000x600 with 1 Axes>"
      ]
     },
     "metadata": {},
     "output_type": "display_data"
    }
   ],
   "source": [
    "df['catches'] = pd.to_numeric(df['catches'], errors='coerce')\n",
    "sns.countplot(x='catches', data=df, palette='pastel')\n",
    "plt.title(\"No. of Catches per Match\")\n",
    "plt.savefig(\"Number_of_catches_per_match.png\")\n",
    "plt.show()"
   ]
  },
  {
   "cell_type": "markdown",
   "id": "ee64a88f-3c7a-42dc-a2b4-9d5110b8fe1f",
   "metadata": {},
   "source": [
    "### 🌍 Opposition"
   ]
  },
  {
   "cell_type": "code",
   "execution_count": 187,
   "id": "cf8419af-07cd-4c63-8f5a-e1ca95f618a8",
   "metadata": {},
   "outputs": [
    {
     "data": {
      "image/png": "[encoded data removed]",
      "text/plain": [
       "<Figure size 1000x500 with 1 Axes>"
      ]
     },
     "metadata": {},
     "output_type": "display_data"
    }
   ],
   "source": [
    "oppo_counts = df['opposition'].value_counts()\n",
    "plt.figure(figsize=(10,5))\n",
    "sns.barplot(x=oppo_counts.index, y=oppo_counts.values, palette='cool')\n",
    "plt.title(\"Matches Played vs Each Opposition\")\n",
    "plt.ylabel(\"Matches\")\n",
    "plt.xticks(rotation=45)\n",
    "plt.savefig(\"Matches_played_VS_each_opposition.png\")\n",
    "plt.show()"
   ]
  },
  {
   "cell_type": "markdown",
   "id": "642282fb-3d21-49d6-bcc1-4b953f206964",
   "metadata": {},
   "source": [
    "### 🏟  Ground"
   ]
  },
  {
   "cell_type": "code",
   "execution_count": 189,
   "id": "9cb49d1c-774e-47e5-9a54-4e7b978ae329",
   "metadata": {},
   "outputs": [
    {
     "data": {
      "image/png": "[encoded data removed]",
      "text/plain": [
       "<Figure size 1000x500 with 1 Axes>"
      ]
     },
     "metadata": {},
     "output_type": "display_data"
    }
   ],
   "source": [
    "top_grounds = df['ground'].value_counts().nlargest(10)\n",
    "plt.figure(figsize=(10,5))\n",
    "sns.barplot(y=top_grounds.index, x=top_grounds.values, palette='icefire')\n",
    "plt.title(\"Top 10 Grounds Sachin Played At\")\n",
    "plt.xlabel(\"No. of Matches\")\n",
    "plt.savefig(\"Top_10_Grounds_Sachin_Played_At.png\")\n",
    "plt.show()"
   ]
  },
  {
   "cell_type": "markdown",
   "id": "0d0491f9-8e4f-4ab2-ac0a-ab8f19d82b2f",
   "metadata": {},
   "source": [
    "### 🪙 Toss"
   ]
  },
  {
   "cell_type": "code",
   "execution_count": 191,
   "id": "e5b9afb1-0e3e-4578-9dc3-0043b27779da",
   "metadata": {},
   "outputs": [
    {
     "data": {
      "image/png": "[encoded data removed]",
      "text/plain": [
       "<Figure size 400x300 with 1 Axes>"
      ]
     },
     "metadata": {},
     "output_type": "display_data"
    }
   ],
   "source": [
    "plt.figure(figsize=(4, 3))\n",
    "sns.countplot(x='toss', data=df, palette='Set2', width=0.2)\n",
    "plt.title(\"Toss Results\", fontsize=12)\n",
    "plt.xlabel(\"Toss Decision\", fontsize=10)\n",
    "plt.ylabel(\"Match Count\", fontsize=10)\n",
    "plt.tight_layout()\n",
    "plt.savefig(\"Toss_Results.png\")\n",
    "plt.show()"
   ]
  },
  {
   "cell_type": "markdown",
   "id": "b82f208d-1e0b-4543-bb5e-52ba83c4e827",
   "metadata": {},
   "source": [
    "### 🏏 Batting Innings"
   ]
  },
  {
   "cell_type": "code",
   "execution_count": 193,
   "id": "ebc3e20b-651b-46fa-8c80-7e4242a42744",
   "metadata": {},
   "outputs": [
    {
     "data": {
      "application/vnd.plotly.v1+json": {
       "config": {
        "plotlyServerURL": "https://plot.ly"
       },
       "data": [
        {
         "domain": {
          "x": [
           0,
           1
          ],
          "y": [
           0,
           1
          ]
         },
         "hole": 0.4,
         "hovertemplate": "label=%{label}<br>value=%{value}<extra></extra>",
         "labels": [
          "won",
          "lost"
         ],
         "legendgroup": "",
         "name": "",
         "showlegend": true,
         "textinfo": "percent+label",
         "type": "pie",
         "values": [
          239,
          224
         ]
        }
       ],
       "layout": {
        "height": 500,
        "legend": {
         "tracegroupgap": 0
        },
        "piecolorway": [
         "rgb(102,194,165)",
         "rgb(252,141,98)",
         "rgb(141,160,203)",
         "rgb(231,138,195)",
         "rgb(166,216,84)",
         "rgb(255,217,47)",
         "rgb(229,196,148)",
         "rgb(179,179,179)"
        ],
        "template": {
         "data": {
          "bar": [
           {
            "error_x": {
             "color": "#2a3f5f"
            },
            "error_y": {
             "color": "#2a3f5f"
            },
            "marker": {
             "line": {
              "color": "#E5ECF6",
              "width": 0.5
             },
             "pattern": {
              "fillmode": "overlay",
              "size": 10,
              "solidity": 0.2
             }
            },
            "type": "bar"
           }
          ],
          "barpolar": [
           {
            "marker": {
             "line": {
              "color": "#E5ECF6",
              "width": 0.5
             },
             "pattern": {
              "fillmode": "overlay",
              "size": 10,
              "solidity": 0.2
             }
            },
            "type": "barpolar"
           }
          ],
          "carpet": [
           {
            "aaxis": {
             "endlinecolor": "#2a3f5f",
             "gridcolor": "white",
             "linecolor": "white",
             "minorgridcolor": "white",
             "startlinecolor": "#2a3f5f"
            },
            "baxis": {
             "endlinecolor": "#2a3f5f",
             "gridcolor": "white",
             "linecolor": "white",
             "minorgridcolor": "white",
             "startlinecolor": "#2a3f5f"
            },
            "type": "carpet"
           }
          ],
          "choropleth": [
           {
            "colorbar": {
             "outlinewidth": 0,
             "ticks": ""
            },
            "type": "choropleth"
           }
          ],
          "contour": [
           {
            "colorbar": {
             "outlinewidth": 0,
             "ticks": ""
            },
            "colorscale": [
             [
              0,
              "#0d0887"
             ],
             [
              0.1111111111111111,
              "#46039f"
             ],
             [
              0.2222222222222222,
              "#7201a8"
             ],
             [
              0.3333333333333333,
              "#9c179e"
             ],
             [
              0.4444444444444444,
              "#bd3786"
             ],
             [
              0.5555555555555556,
              "#d8576b"
             ],
             [
              0.6666666666666666,
              "#ed7953"
             ],
             [
              0.7777777777777778,
              "#fb9f3a"
             ],
             [
              0.8888888888888888,
              "#fdca26"
             ],
             [
              1,
              "#f0f921"
             ]
            ],
            "type": "contour"
           }
          ],
          "contourcarpet": [
           {
            "colorbar": {
             "outlinewidth": 0,
             "ticks": ""
            },
            "type": "contourcarpet"
           }
          ],
          "heatmap": [
           {
            "colorbar": {
             "outlinewidth": 0,
             "ticks": ""
            },
            "colorscale": [
             [
              0,
              "#0d0887"
             ],
             [
              0.1111111111111111,
              "#46039f"
             ],
             [
              0.2222222222222222,
              "#7201a8"
             ],
             [
              0.3333333333333333,
              "#9c179e"
             ],
             [
              0.4444444444444444,
              "#bd3786"
             ],
             [
              0.5555555555555556,
              "#d8576b"
             ],
             [
              0.6666666666666666,
              "#ed7953"
             ],
             [
              0.7777777777777778,
              "#fb9f3a"
             ],
             [
              0.8888888888888888,
              "#fdca26"
             ],
             [
              1,
              "#f0f921"
             ]
            ],
            "type": "heatmap"
           }
          ],
          "heatmapgl": [
           {
            "colorbar": {
             "outlinewidth": 0,
             "ticks": ""
            },
            "colorscale": [
             [
              0,
              "#0d0887"
             ],
             [
              0.1111111111111111,
              "#46039f"
             ],
             [
              0.2222222222222222,
              "#7201a8"
             ],
             [
              0.3333333333333333,
              "#9c179e"
             ],
             [
              0.4444444444444444,
              "#bd3786"
             ],
             [
              0.5555555555555556,
              "#d8576b"
             ],
             [
              0.6666666666666666,
              "#ed7953"
             ],
             [
              0.7777777777777778,
              "#fb9f3a"
             ],
             [
              0.8888888888888888,
              "#fdca26"
             ],
             [
              1,
              "#f0f921"
             ]
            ],
            "type": "heatmapgl"
           }
          ],
          "histogram": [
           {
            "marker": {
             "pattern": {
              "fillmode": "overlay",
              "size": 10,
              "solidity": 0.2
             }
            },
            "type": "histogram"
           }
          ],
          "histogram2d": [
           {
            "colorbar": {
             "outlinewidth": 0,
             "ticks": ""
            },
            "colorscale": [
             [
              0,
              "#0d0887"
             ],
             [
              0.1111111111111111,
              "#46039f"
             ],
             [
              0.2222222222222222,
              "#7201a8"
             ],
             [
              0.3333333333333333,
              "#9c179e"
             ],
             [
              0.4444444444444444,
              "#bd3786"
             ],
             [
              0.5555555555555556,
              "#d8576b"
             ],
             [
              0.6666666666666666,
              "#ed7953"
             ],
             [
              0.7777777777777778,
              "#fb9f3a"
             ],
             [
              0.8888888888888888,
              "#fdca26"
             ],
             [
              1,
              "#f0f921"
             ]
            ],
            "type": "histogram2d"
           }
          ],
          "histogram2dcontour": [
           {
            "colorbar": {
             "outlinewidth": 0,
             "ticks": ""
            },
            "colorscale": [
             [
              0,
              "#0d0887"
             ],
             [
              0.1111111111111111,
              "#46039f"
             ],
             [
              0.2222222222222222,
              "#7201a8"
             ],
             [
              0.3333333333333333,
              "#9c179e"
             ],
             [
              0.4444444444444444,
              "#bd3786"
             ],
             [
              0.5555555555555556,
              "#d8576b"
             ],
             [
              0.6666666666666666,
              "#ed7953"
             ],
             [
              0.7777777777777778,
              "#fb9f3a"
             ],
             [
              0.8888888888888888,
              "#fdca26"
             ],
             [
              1,
              "#f0f921"
             ]
            ],
            "type": "histogram2dcontour"
           }
          ],
          "mesh3d": [
           {
            "colorbar": {
             "outlinewidth": 0,
             "ticks": ""
            },
            "type": "mesh3d"
           }
          ],
          "parcoords": [
           {
            "line": {
             "colorbar": {
              "outlinewidth": 0,
              "ticks": ""
             }
            },
            "type": "parcoords"
           }
          ],
          "pie": [
           {
            "automargin": true,
            "type": "pie"
           }
          ],
          "scatter": [
           {
            "fillpattern": {
             "fillmode": "overlay",
             "size": 10,
             "solidity": 0.2
            },
            "type": "scatter"
           }
          ],
          "scatter3d": [
           {
            "line": {
             "colorbar": {
              "outlinewidth": 0,
              "ticks": ""
             }
            },
            "marker": {
             "colorbar": {
              "outlinewidth": 0,
              "ticks": ""
             }
            },
            "type": "scatter3d"
           }
          ],
          "scattercarpet": [
           {
            "marker": {
             "colorbar": {
              "outlinewidth": 0,
              "ticks": ""
             }
            },
            "type": "scattercarpet"
           }
          ],
          "scattergeo": [
           {
            "marker": {
             "colorbar": {
              "outlinewidth": 0,
              "ticks": ""
             }
            },
            "type": "scattergeo"
           }
          ],
          "scattergl": [
           {
            "marker": {
             "colorbar": {
              "outlinewidth": 0,
              "ticks": ""
             }
            },
            "type": "scattergl"
           }
          ],
          "scattermapbox": [
           {
            "marker": {
             "colorbar": {
              "outlinewidth": 0,
              "ticks": ""
             }
            },
            "type": "scattermapbox"
           }
          ],
          "scatterpolar": [
           {
            "marker": {
             "colorbar": {
              "outlinewidth": 0,
              "ticks": ""
             }
            },
            "type": "scatterpolar"
           }
          ],
          "scatterpolargl": [
           {
            "marker": {
             "colorbar": {
              "outlinewidth": 0,
              "ticks": ""
             }
            },
            "type": "scatterpolargl"
           }
          ],
          "scatterternary": [
           {
            "marker": {
             "colorbar": {
              "outlinewidth": 0,
              "ticks": ""
             }
            },
            "type": "scatterternary"
           }
          ],
          "surface": [
           {
            "colorbar": {
             "outlinewidth": 0,
             "ticks": ""
            },
            "colorscale": [
             [
              0,
              "#0d0887"
             ],
             [
              0.1111111111111111,
              "#46039f"
             ],
             [
              0.2222222222222222,
              "#7201a8"
             ],
             [
              0.3333333333333333,
              "#9c179e"
             ],
             [
              0.4444444444444444,
              "#bd3786"
             ],
             [
              0.5555555555555556,
              "#d8576b"
             ],
             [
              0.6666666666666666,
              "#ed7953"
             ],
             [
              0.7777777777777778,
              "#fb9f3a"
             ],
             [
              0.8888888888888888,
              "#fdca26"
             ],
             [
              1,
              "#f0f921"
             ]
            ],
            "type": "surface"
           }
          ],
          "table": [
           {
            "cells": {
             "fill": {
              "color": "#EBF0F8"
             },
             "line": {
              "color": "white"
             }
            },
            "header": {
             "fill": {
              "color": "#C8D4E3"
             },
             "line": {
              "color": "white"
             }
            },
            "type": "table"
           }
          ]
         },
         "layout": {
          "annotationdefaults": {
           "arrowcolor": "#2a3f5f",
           "arrowhead": 0,
           "arrowwidth": 1
          },
          "autotypenumbers": "strict",
          "coloraxis": {
           "colorbar": {
            "outlinewidth": 0,
            "ticks": ""
           }
          },
          "colorscale": {
           "diverging": [
            [
             0,
             "#8e0152"
            ],
            [
             0.1,
             "#c51b7d"
            ],
            [
             0.2,
             "#de77ae"
            ],
            [
             0.3,
             "#f1b6da"
            ],
            [
             0.4,
             "#fde0ef"
            ],
            [
             0.5,
             "#f7f7f7"
            ],
            [
             0.6,
             "#e6f5d0"
            ],
            [
             0.7,
             "#b8e186"
            ],
            [
             0.8,
             "#7fbc41"
            ],
            [
             0.9,
             "#4d9221"
            ],
            [
             1,
             "#276419"
            ]
           ],
           "sequential": [
            [
             0,
             "#0d0887"
            ],
            [
             0.1111111111111111,
             "#46039f"
            ],
            [
             0.2222222222222222,
             "#7201a8"
            ],
            [
             0.3333333333333333,
             "#9c179e"
            ],
            [
             0.4444444444444444,
             "#bd3786"
            ],
            [
             0.5555555555555556,
             "#d8576b"
            ],
            [
             0.6666666666666666,
             "#ed7953"
            ],
            [
             0.7777777777777778,
             "#fb9f3a"
            ],
            [
             0.8888888888888888,
             "#fdca26"
            ],
            [
             1,
             "#f0f921"
            ]
           ],
           "sequentialminus": [
            [
             0,
             "#0d0887"
            ],
            [
             0.1111111111111111,
             "#46039f"
            ],
            [
             0.2222222222222222,
             "#7201a8"
            ],
            [
             0.3333333333333333,
             "#9c179e"
            ],
            [
             0.4444444444444444,
             "#bd3786"
            ],
            [
             0.5555555555555556,
             "#d8576b"
            ],
            [
             0.6666666666666666,
             "#ed7953"
            ],
            [
             0.7777777777777778,
             "#fb9f3a"
            ],
            [
             0.8888888888888888,
             "#fdca26"
            ],
            [
             1,
             "#f0f921"
            ]
           ]
          },
          "colorway": [
           "#636efa",
           "#EF553B",
           "#00cc96",
           "#ab63fa",
           "#FFA15A",
           "#19d3f3",
           "#FF6692",
           "#B6E880",
           "#FF97FF",
           "#FECB52"
          ],
          "font": {
           "color": "#2a3f5f"
          },
          "geo": {
           "bgcolor": "white",
           "lakecolor": "white",
           "landcolor": "#E5ECF6",
           "showlakes": true,
           "showland": true,
           "subunitcolor": "white"
          },
          "hoverlabel": {
           "align": "left"
          },
          "hovermode": "closest",
          "mapbox": {
           "style": "light"
          },
          "paper_bgcolor": "white",
          "plot_bgcolor": "#E5ECF6",
          "polar": {
           "angularaxis": {
            "gridcolor": "white",
            "linecolor": "white",
            "ticks": ""
           },
           "bgcolor": "#E5ECF6",
           "radialaxis": {
            "gridcolor": "white",
            "linecolor": "white",
            "ticks": ""
           }
          },
          "scene": {
           "xaxis": {
            "backgroundcolor": "#E5ECF6",
            "gridcolor": "white",
            "gridwidth": 2,
            "linecolor": "white",
            "showbackground": true,
            "ticks": "",
            "zerolinecolor": "white"
           },
           "yaxis": {
            "backgroundcolor": "#E5ECF6",
            "gridcolor": "white",
            "gridwidth": 2,
            "linecolor": "white",
            "showbackground": true,
            "ticks": "",
            "zerolinecolor": "white"
           },
           "zaxis": {
            "backgroundcolor": "#E5ECF6",
            "gridcolor": "white",
            "gridwidth": 2,
            "linecolor": "white",
            "showbackground": true,
            "ticks": "",
            "zerolinecolor": "white"
           }
          },
          "shapedefaults": {
           "line": {
            "color": "#2a3f5f"
           }
          },
          "ternary": {
           "aaxis": {
            "gridcolor": "white",
            "linecolor": "white",
            "ticks": ""
           },
           "baxis": {
            "gridcolor": "white",
            "linecolor": "white",
            "ticks": ""
           },
           "bgcolor": "#E5ECF6",
           "caxis": {
            "gridcolor": "white",
            "linecolor": "white",
            "ticks": ""
           }
          },
          "title": {
           "x": 0.05
          },
          "xaxis": {
           "automargin": true,
           "gridcolor": "white",
           "linecolor": "white",
           "ticks": "",
           "title": {
            "standoff": 15
           },
           "zerolinecolor": "white",
           "zerolinewidth": 2
          },
          "yaxis": {
           "automargin": true,
           "gridcolor": "white",
           "linecolor": "white",
           "ticks": "",
           "title": {
            "standoff": 15
           },
           "zerolinecolor": "white",
           "zerolinewidth": 2
          }
         }
        },
        "title": {
         "font": {
          "size": 20
         },
         "text": "Toss Results (Donut Chart)"
        },
        "width": 600
       }
      },
      "image/png": "[encoded data removed]",
      "text/html": [
       "<div>                            <div id=\"79972fed-8e41-4049-a35c-d73310dc8e09\" class=\"plotly-graph-div\" style=\"height:500px; width:600px;\"></div>            <script type=\"text/javascript\">                require([\"plotly\"], function(Plotly) {                    window.PLOTLYENV=window.PLOTLYENV || {};                                    if (document.getElementById(\"79972fed-8e41-4049-a35c-d73310dc8e09\")) {                    Plotly.newPlot(                        \"79972fed-8e41-4049-a35c-d73310dc8e09\",                        [{\"domain\":{\"x\":[0.0,1.0],\"y\":[0.0,1.0]},\"hole\":0.4,\"hovertemplate\":\"label=%{label}\\u003cbr\\u003evalue=%{value}\\u003cextra\\u003e\\u003c\\u002fextra\\u003e\",\"labels\":[\"won\",\"lost\"],\"legendgroup\":\"\",\"name\":\"\",\"showlegend\":true,\"values\":[239,224],\"type\":\"pie\",\"textinfo\":\"percent+label\"}],                        {\"template\":{\"data\":{\"histogram2dcontour\":[{\"type\":\"histogram2dcontour\",\"colorbar\":{\"outlinewidth\":0,\"ticks\":\"\"},\"colorscale\":[[0.0,\"#0d0887\"],[0.1111111111111111,\"#46039f\"],[0.2222222222222222,\"#7201a8\"],[0.3333333333333333,\"#9c179e\"],[0.4444444444444444,\"#bd3786\"],[0.5555555555555556,\"#d8576b\"],[0.6666666666666666,\"#ed7953\"],[0.7777777777777778,\"#fb9f3a\"],[0.8888888888888888,\"#fdca26\"],[1.0,\"#f0f921\"]]}],\"choropleth\":[{\"type\":\"choropleth\",\"colorbar\":{\"outlinewidth\":0,\"ticks\":\"\"}}],\"histogram2d\":[{\"type\":\"histogram2d\",\"colorbar\":{\"outlinewidth\":0,\"ticks\":\"\"},\"colorscale\":[[0.0,\"#0d0887\"],[0.1111111111111111,\"#46039f\"],[0.2222222222222222,\"#7201a8\"],[0.3333333333333333,\"#9c179e\"],[0.4444444444444444,\"#bd3786\"],[0.5555555555555556,\"#d8576b\"],[0.6666666666666666,\"#ed7953\"],[0.7777777777777778,\"#fb9f3a\"],[0.8888888888888888,\"#fdca26\"],[1.0,\"#f0f921\"]]}],\"heatmap\":[{\"type\":\"heatmap\",\"colorbar\":{\"outlinewidth\":0,\"ticks\":\"\"},\"colorscale\":[[0.0,\"#0d0887\"],[0.1111111111111111,\"#46039f\"],[0.2222222222222222,\"#7201a8\"],[0.3333333333333333,\"#9c179e\"],[0.4444444444444444,\"#bd3786\"],[0.5555555555555556,\"#d8576b\"],[0.6666666666666666,\"#ed7953\"],[0.7777777777777778,\"#fb9f3a\"],[0.8888888888888888,\"#fdca26\"],[1.0,\"#f0f921\"]]}],\"heatmapgl\":[{\"type\":\"heatmapgl\",\"colorbar\":{\"outlinewidth\":0,\"ticks\":\"\"},\"colorscale\":[[0.0,\"#0d0887\"],[0.1111111111111111,\"#46039f\"],[0.2222222222222222,\"#7201a8\"],[0.3333333333333333,\"#9c179e\"],[0.4444444444444444,\"#bd3786\"],[0.5555555555555556,\"#d8576b\"],[0.6666666666666666,\"#ed7953\"],[0.7777777777777778,\"#fb9f3a\"],[0.8888888888888888,\"#fdca26\"],[1.0,\"#f0f921\"]]}],\"contourcarpet\":[{\"type\":\"contourcarpet\",\"colorbar\":{\"outlinewidth\":0,\"ticks\":\"\"}}],\"contour\":[{\"type\":\"contour\",\"colorbar\":{\"outlinewidth\":0,\"ticks\":\"\"},\"colorscale\":[[0.0,\"#0d0887\"],[0.1111111111111111,\"#46039f\"],[0.2222222222222222,\"#7201a8\"],[0.3333333333333333,\"#9c179e\"],[0.4444444444444444,\"#bd3786\"],[0.5555555555555556,\"#d8576b\"],[0.6666666666666666,\"#ed7953\"],[0.7777777777777778,\"#fb9f3a\"],[0.8888888888888888,\"#fdca26\"],[1.0,\"#f0f921\"]]}],\"surface\":[{\"type\":\"surface\",\"colorbar\":{\"outlinewidth\":0,\"ticks\":\"\"},\"colorscale\":[[0.0,\"#0d0887\"],[0.1111111111111111,\"#46039f\"],[0.2222222222222222,\"#7201a8\"],[0.3333333333333333,\"#9c179e\"],[0.4444444444444444,\"#bd3786\"],[0.5555555555555556,\"#d8576b\"],[0.6666666666666666,\"#ed7953\"],[0.7777777777777778,\"#fb9f3a\"],[0.8888888888888888,\"#fdca26\"],[1.0,\"#f0f921\"]]}],\"mesh3d\":[{\"type\":\"mesh3d\",\"colorbar\":{\"outlinewidth\":0,\"ticks\":\"\"}}],\"scatter\":[{\"fillpattern\":{\"fillmode\":\"overlay\",\"size\":10,\"solidity\":0.2},\"type\":\"scatter\"}],\"parcoords\":[{\"type\":\"parcoords\",\"line\":{\"colorbar\":{\"outlinewidth\":0,\"ticks\":\"\"}}}],\"scatterpolargl\":[{\"type\":\"scatterpolargl\",\"marker\":{\"colorbar\":{\"outlinewidth\":0,\"ticks\":\"\"}}}],\"bar\":[{\"error_x\":{\"color\":\"#2a3f5f\"},\"error_y\":{\"color\":\"#2a3f5f\"},\"marker\":{\"line\":{\"color\":\"#E5ECF6\",\"width\":0.5},\"pattern\":{\"fillmode\":\"overlay\",\"size\":10,\"solidity\":0.2}},\"type\":\"bar\"}],\"scattergeo\":[{\"type\":\"scattergeo\",\"marker\":{\"colorbar\":{\"outlinewidth\":0,\"ticks\":\"\"}}}],\"scatterpolar\":[{\"type\":\"scatterpolar\",\"marker\":{\"colorbar\":{\"outlinewidth\":0,\"ticks\":\"\"}}}],\"histogram\":[{\"marker\":{\"pattern\":{\"fillmode\":\"overlay\",\"size\":10,\"solidity\":0.2}},\"type\":\"histogram\"}],\"scattergl\":[{\"type\":\"scattergl\",\"marker\":{\"colorbar\":{\"outlinewidth\":0,\"ticks\":\"\"}}}],\"scatter3d\":[{\"type\":\"scatter3d\",\"line\":{\"colorbar\":{\"outlinewidth\":0,\"ticks\":\"\"}},\"marker\":{\"colorbar\":{\"outlinewidth\":0,\"ticks\":\"\"}}}],\"scattermapbox\":[{\"type\":\"scattermapbox\",\"marker\":{\"colorbar\":{\"outlinewidth\":0,\"ticks\":\"\"}}}],\"scatterternary\":[{\"type\":\"scatterternary\",\"marker\":{\"colorbar\":{\"outlinewidth\":0,\"ticks\":\"\"}}}],\"scattercarpet\":[{\"type\":\"scattercarpet\",\"marker\":{\"colorbar\":{\"outlinewidth\":0,\"ticks\":\"\"}}}],\"carpet\":[{\"aaxis\":{\"endlinecolor\":\"#2a3f5f\",\"gridcolor\":\"white\",\"linecolor\":\"white\",\"minorgridcolor\":\"white\",\"startlinecolor\":\"#2a3f5f\"},\"baxis\":{\"endlinecolor\":\"#2a3f5f\",\"gridcolor\":\"white\",\"linecolor\":\"white\",\"minorgridcolor\":\"white\",\"startlinecolor\":\"#2a3f5f\"},\"type\":\"carpet\"}],\"table\":[{\"cells\":{\"fill\":{\"color\":\"#EBF0F8\"},\"line\":{\"color\":\"white\"}},\"header\":{\"fill\":{\"color\":\"#C8D4E3\"},\"line\":{\"color\":\"white\"}},\"type\":\"table\"}],\"barpolar\":[{\"marker\":{\"line\":{\"color\":\"#E5ECF6\",\"width\":0.5},\"pattern\":{\"fillmode\":\"overlay\",\"size\":10,\"solidity\":0.2}},\"type\":\"barpolar\"}],\"pie\":[{\"automargin\":true,\"type\":\"pie\"}]},\"layout\":{\"autotypenumbers\":\"strict\",\"colorway\":[\"#636efa\",\"#EF553B\",\"#00cc96\",\"#ab63fa\",\"#FFA15A\",\"#19d3f3\",\"#FF6692\",\"#B6E880\",\"#FF97FF\",\"#FECB52\"],\"font\":{\"color\":\"#2a3f5f\"},\"hovermode\":\"closest\",\"hoverlabel\":{\"align\":\"left\"},\"paper_bgcolor\":\"white\",\"plot_bgcolor\":\"#E5ECF6\",\"polar\":{\"bgcolor\":\"#E5ECF6\",\"angularaxis\":{\"gridcolor\":\"white\",\"linecolor\":\"white\",\"ticks\":\"\"},\"radialaxis\":{\"gridcolor\":\"white\",\"linecolor\":\"white\",\"ticks\":\"\"}},\"ternary\":{\"bgcolor\":\"#E5ECF6\",\"aaxis\":{\"gridcolor\":\"white\",\"linecolor\":\"white\",\"ticks\":\"\"},\"baxis\":{\"gridcolor\":\"white\",\"linecolor\":\"white\",\"ticks\":\"\"},\"caxis\":{\"gridcolor\":\"white\",\"linecolor\":\"white\",\"ticks\":\"\"}},\"coloraxis\":{\"colorbar\":{\"outlinewidth\":0,\"ticks\":\"\"}},\"colorscale\":{\"sequential\":[[0.0,\"#0d0887\"],[0.1111111111111111,\"#46039f\"],[0.2222222222222222,\"#7201a8\"],[0.3333333333333333,\"#9c179e\"],[0.4444444444444444,\"#bd3786\"],[0.5555555555555556,\"#d8576b\"],[0.6666666666666666,\"#ed7953\"],[0.7777777777777778,\"#fb9f3a\"],[0.8888888888888888,\"#fdca26\"],[1.0,\"#f0f921\"]],\"sequentialminus\":[[0.0,\"#0d0887\"],[0.1111111111111111,\"#46039f\"],[0.2222222222222222,\"#7201a8\"],[0.3333333333333333,\"#9c179e\"],[0.4444444444444444,\"#bd3786\"],[0.5555555555555556,\"#d8576b\"],[0.6666666666666666,\"#ed7953\"],[0.7777777777777778,\"#fb9f3a\"],[0.8888888888888888,\"#fdca26\"],[1.0,\"#f0f921\"]],\"diverging\":[[0,\"#8e0152\"],[0.1,\"#c51b7d\"],[0.2,\"#de77ae\"],[0.3,\"#f1b6da\"],[0.4,\"#fde0ef\"],[0.5,\"#f7f7f7\"],[0.6,\"#e6f5d0\"],[0.7,\"#b8e186\"],[0.8,\"#7fbc41\"],[0.9,\"#4d9221\"],[1,\"#276419\"]]},\"xaxis\":{\"gridcolor\":\"white\",\"linecolor\":\"white\",\"ticks\":\"\",\"title\":{\"standoff\":15},\"zerolinecolor\":\"white\",\"automargin\":true,\"zerolinewidth\":2},\"yaxis\":{\"gridcolor\":\"white\",\"linecolor\":\"white\",\"ticks\":\"\",\"title\":{\"standoff\":15},\"zerolinecolor\":\"white\",\"automargin\":true,\"zerolinewidth\":2},\"scene\":{\"xaxis\":{\"backgroundcolor\":\"#E5ECF6\",\"gridcolor\":\"white\",\"linecolor\":\"white\",\"showbackground\":true,\"ticks\":\"\",\"zerolinecolor\":\"white\",\"gridwidth\":2},\"yaxis\":{\"backgroundcolor\":\"#E5ECF6\",\"gridcolor\":\"white\",\"linecolor\":\"white\",\"showbackground\":true,\"ticks\":\"\",\"zerolinecolor\":\"white\",\"gridwidth\":2},\"zaxis\":{\"backgroundcolor\":\"#E5ECF6\",\"gridcolor\":\"white\",\"linecolor\":\"white\",\"showbackground\":true,\"ticks\":\"\",\"zerolinecolor\":\"white\",\"gridwidth\":2}},\"shapedefaults\":{\"line\":{\"color\":\"#2a3f5f\"}},\"annotationdefaults\":{\"arrowcolor\":\"#2a3f5f\",\"arrowhead\":0,\"arrowwidth\":1},\"geo\":{\"bgcolor\":\"white\",\"landcolor\":\"#E5ECF6\",\"subunitcolor\":\"white\",\"showland\":true,\"showlakes\":true,\"lakecolor\":\"white\"},\"title\":{\"x\":0.05},\"mapbox\":{\"style\":\"light\"}}},\"legend\":{\"tracegroupgap\":0},\"title\":{\"text\":\"Toss Results (Donut Chart)\",\"font\":{\"size\":20}},\"piecolorway\":[\"rgb(102,194,165)\",\"rgb(252,141,98)\",\"rgb(141,160,203)\",\"rgb(231,138,195)\",\"rgb(166,216,84)\",\"rgb(255,217,47)\",\"rgb(229,196,148)\",\"rgb(179,179,179)\"],\"height\":500,\"width\":600},                        {\"responsive\": true}                    ).then(function(){\n",
       "                            \n",
       "var gd = document.getElementById('79972fed-8e41-4049-a35c-d73310dc8e09');\n",
       "var x = new MutationObserver(function (mutations, observer) {{\n",
       "        var display = window.getComputedStyle(gd).display;\n",
       "        if (!display || display === 'none') {{\n",
       "            console.log([gd, 'removed!']);\n",
       "            Plotly.purge(gd);\n",
       "            observer.disconnect();\n",
       "        }}\n",
       "}});\n",
       "\n",
       "// Listen for the removal of the full notebook cells\n",
       "var notebookContainer = gd.closest('#notebook-container');\n",
       "if (notebookContainer) {{\n",
       "    x.observe(notebookContainer, {childList: true});\n",
       "}}\n",
       "\n",
       "// Listen for the clearing of the current output cell\n",
       "var outputEl = gd.closest('.output');\n",
       "if (outputEl) {{\n",
       "    x.observe(outputEl, {childList: true});\n",
       "}}\n",
       "\n",
       "                        })                };                });            </script>        </div>"
      ]
     },
     "metadata": {},
     "output_type": "display_data"
    },
    {
     "data": {
      "text/plain": [
       "<Figure size 1000x600 with 0 Axes>"
      ]
     },
     "metadata": {},
     "output_type": "display_data"
    }
   ],
   "source": [
    "import plotly.express as px\n",
    "\n",
    "fig = px.pie(names=df['toss'].value_counts().index,\n",
    "             values=df['toss'].value_counts().values,\n",
    "             title='Toss Results (Donut Chart)',\n",
    "             hole=0.4,\n",
    "             color_discrete_sequence=px.colors.qualitative.Set2)\n",
    "\n",
    "fig.update_traces(textinfo='percent+label')\n",
    "fig.update_layout(\n",
    "    title_font_size=20,\n",
    "    height=500, \n",
    "    width=600    \n",
    ")\n",
    "plt.savefig(\"Toss_Results(1).png\")\n",
    "fig.show()"
   ]
  },
  {
   "cell_type": "markdown",
   "id": "cbed05da-022c-4ff9-acc6-6f62976294f4",
   "metadata": {},
   "source": [
    "### 📅  Analyzed Over Time"
   ]
  },
  {
   "cell_type": "code",
   "execution_count": 195,
   "id": "b36ebb63-02b6-4e08-b018-45db6383ba5a",
   "metadata": {},
   "outputs": [
    {
     "data": {
      "image/png": "[encoded data removed]",
      "text/plain": [
       "<Figure size 1200x600 with 1 Axes>"
      ]
     },
     "metadata": {},
     "output_type": "display_data"
    }
   ],
   "source": [
    "df['date'] = pd.to_datetime(df['date'])\n",
    "plt.figure(figsize=(12,6))\n",
    "df.groupby(df['date'].dt.year)['batting_score_clean'].sum().plot(color='teal', marker='o')\n",
    "plt.title(\"Yearly Runs Scored by Sachin\")\n",
    "plt.xlabel(\"Year\")\n",
    "plt.ylabel(\"Total Runs\")\n",
    "plt.grid(True)\n",
    "plt.savefig(\"Yearly_runs_scored_by_Sachin.png\")\n",
    "plt.show()"
   ]
  },
  {
   "cell_type": "markdown",
   "id": "1430106c-f9f5-4625-af75-d79f354d4035",
   "metadata": {},
   "source": [
    "## 📈  Multivariate Analysis"
   ]
  },
  {
   "cell_type": "markdown",
   "id": "07c3d216-3bbd-422d-bca6-bf9293fa13cb",
   "metadata": {},
   "source": [
    "### Performance by Match Result"
   ]
  },
  {
   "cell_type": "code",
   "execution_count": 197,
   "id": "4debdc37-9268-4bfc-8533-f230bc3298dd",
   "metadata": {},
   "outputs": [
    {
     "data": {
      "image/png": "[encoded data removed]",
      "text/plain": [
       "<Figure size 1000x600 with 1 Axes>"
      ]
     },
     "metadata": {},
     "output_type": "display_data"
    }
   ],
   "source": [
    "sns.boxplot(data=df, x='match_result', y='batting_score_clean', palette='Set3')\n",
    "plt.title(\"Batting Score vs Match Result\", fontsize=15, weight='bold')\n",
    "plt.xlabel(\"Match Result\")\n",
    "plt.ylabel(\"Batting Score\")\n",
    "plt.grid(axis='y', linestyle='--', alpha=0.6)\n",
    "plt.savefig(\"Batting_Score_VS_Match_Result.png\")\n",
    "plt.show()"
   ]
  },
  {
   "cell_type": "markdown",
   "id": "6aab8b88-1367-460c-b1ff-29c216daff0a",
   "metadata": {},
   "source": [
    "### 🏁 Match Result"
   ]
  },
  {
   "cell_type": "code",
   "execution_count": 199,
   "id": "640ed9f6-96e6-4b4e-a50e-9f76222c5785",
   "metadata": {},
   "outputs": [
    {
     "data": {
      "application/vnd.plotly.v1+json": {
       "config": {
        "plotlyServerURL": "https://plot.ly"
       },
       "data": [
        {
         "alignmentgroup": "True",
         "hovertemplate": "opposition=%{x}<br>new_wickets=%{y}<extra></extra>",
         "legendgroup": "v Pakistan",
         "marker": {
          "color": "#F8766D"
         },
         "name": "v Pakistan",
         "notched": false,
         "offsetgroup": "v Pakistan",
         "orientation": "v",
         "showlegend": true,
         "type": "box",
         "x": [
          "v Pakistan",
          "v Pakistan",
          "v Pakistan",
          "v Pakistan",
          "v Pakistan",
          "v Pakistan",
          "v Pakistan",
          "v Pakistan",
          "v Pakistan",
          "v Pakistan",
          "v Pakistan",
          "v Pakistan",
          "v Pakistan",
          "v Pakistan",
          "v Pakistan",
          "v Pakistan",
          "v Pakistan",
          "v Pakistan",
          "v Pakistan",
          "v Pakistan",
          "v Pakistan",
          "v Pakistan",
          "v Pakistan",
          "v Pakistan",
          "v Pakistan",
          "v Pakistan",
          "v Pakistan",
          "v Pakistan",
          "v Pakistan",
          "v Pakistan",
          "v Pakistan",
          "v Pakistan",
          "v Pakistan",
          "v Pakistan",
          "v Pakistan",
          "v Pakistan",
          "v Pakistan",
          "v Pakistan",
          "v Pakistan",
          "v Pakistan",
          "v Pakistan",
          "v Pakistan",
          "v Pakistan",
          "v Pakistan",
          "v Pakistan",
          "v Pakistan",
          "v Pakistan",
          "v Pakistan",
          "v Pakistan",
          "v Pakistan",
          "v Pakistan",
          "v Pakistan",
          "v Pakistan",
          "v Pakistan",
          "v Pakistan",
          "v Pakistan",
          "v Pakistan",
          "v Pakistan",
          "v Pakistan",
          "v Pakistan",
          "v Pakistan",
          "v Pakistan",
          "v Pakistan",
          "v Pakistan",
          "v Pakistan",
          "v Pakistan",
          "v Pakistan",
          "v Pakistan",
          "v Pakistan"
         ],
         "x0": " ",
         "xaxis": "x",
         "y": [
          null,
          null,
          null,
          0,
          0,
          1,
          0,
          0,
          0,
          0,
          0,
          1,
          2,
          0,
          1,
          0,
          1,
          null,
          2,
          null,
          0,
          null,
          0,
          null,
          null,
          null,
          0,
          0,
          null,
          null,
          1,
          3,
          0,
          1,
          null,
          null,
          null,
          0,
          null,
          null,
          0,
          0,
          0,
          null,
          0,
          0,
          1,
          1,
          0,
          3,
          0,
          5,
          0,
          0,
          1,
          1,
          0,
          null,
          0,
          1,
          1,
          2,
          0,
          0,
          null,
          null,
          null,
          null,
          0
         ],
         "y0": " ",
         "yaxis": "y"
        },
        {
         "alignmentgroup": "True",
         "hovertemplate": "opposition=%{x}<br>new_wickets=%{y}<extra></extra>",
         "legendgroup": "v New Zealand",
         "marker": {
          "color": "#A3A500"
         },
         "name": "v New Zealand",
         "notched": false,
         "offsetgroup": "v New Zealand",
         "orientation": "v",
         "showlegend": true,
         "type": "box",
         "x": [
          "v New Zealand",
          "v New Zealand",
          "v New Zealand",
          "v New Zealand",
          "v New Zealand",
          "v New Zealand",
          "v New Zealand",
          "v New Zealand",
          "v New Zealand",
          "v New Zealand",
          "v New Zealand",
          "v New Zealand",
          "v New Zealand",
          "v New Zealand",
          "v New Zealand",
          "v New Zealand",
          "v New Zealand",
          "v New Zealand",
          "v New Zealand",
          "v New Zealand",
          "v New Zealand",
          "v New Zealand",
          "v New Zealand",
          "v New Zealand",
          "v New Zealand",
          "v New Zealand",
          "v New Zealand",
          "v New Zealand",
          "v New Zealand",
          "v New Zealand",
          "v New Zealand",
          "v New Zealand",
          "v New Zealand",
          "v New Zealand",
          "v New Zealand",
          "v New Zealand",
          "v New Zealand",
          "v New Zealand",
          "v New Zealand",
          "v New Zealand",
          "v New Zealand",
          "v New Zealand"
         ],
         "x0": " ",
         "xaxis": "x",
         "y": [
          null,
          null,
          0,
          0,
          null,
          0,
          0,
          0,
          2,
          null,
          0,
          1,
          2,
          0,
          null,
          0,
          0,
          1,
          1,
          null,
          1,
          3,
          null,
          1,
          0,
          0,
          null,
          null,
          null,
          null,
          1,
          null,
          null,
          null,
          0,
          null,
          0,
          0,
          null,
          null,
          null,
          null
         ],
         "y0": " ",
         "yaxis": "y"
        },
        {
         "alignmentgroup": "True",
         "hovertemplate": "opposition=%{x}<br>new_wickets=%{y}<extra></extra>",
         "legendgroup": "v Sri Lanka",
         "marker": {
          "color": "#00BF7D"
         },
         "name": "v Sri Lanka",
         "notched": false,
         "offsetgroup": "v Sri Lanka",
         "orientation": "v",
         "showlegend": true,
         "type": "box",
         "x": [
          "v Sri Lanka",
          "v Sri Lanka",
          "v Sri Lanka",
          "v Sri Lanka",
          "v Sri Lanka",
          "v Sri Lanka",
          "v Sri Lanka",
          "v Sri Lanka",
          "v Sri Lanka",
          "v Sri Lanka",
          "v Sri Lanka",
          "v Sri Lanka",
          "v Sri Lanka",
          "v Sri Lanka",
          "v Sri Lanka",
          "v Sri Lanka",
          "v Sri Lanka",
          "v Sri Lanka",
          "v Sri Lanka",
          "v Sri Lanka",
          "v Sri Lanka",
          "v Sri Lanka",
          "v Sri Lanka",
          "v Sri Lanka",
          "v Sri Lanka",
          "v Sri Lanka",
          "v Sri Lanka",
          "v Sri Lanka",
          "v Sri Lanka",
          "v Sri Lanka",
          "v Sri Lanka",
          "v Sri Lanka",
          "v Sri Lanka",
          "v Sri Lanka",
          "v Sri Lanka",
          "v Sri Lanka",
          "v Sri Lanka",
          "v Sri Lanka",
          "v Sri Lanka",
          "v Sri Lanka",
          "v Sri Lanka",
          "v Sri Lanka",
          "v Sri Lanka",
          "v Sri Lanka",
          "v Sri Lanka",
          "v Sri Lanka",
          "v Sri Lanka",
          "v Sri Lanka",
          "v Sri Lanka",
          "v Sri Lanka",
          "v Sri Lanka",
          "v Sri Lanka",
          "v Sri Lanka",
          "v Sri Lanka",
          "v Sri Lanka",
          "v Sri Lanka",
          "v Sri Lanka",
          "v Sri Lanka",
          "v Sri Lanka",
          "v Sri Lanka",
          "v Sri Lanka",
          "v Sri Lanka",
          "v Sri Lanka",
          "v Sri Lanka",
          "v Sri Lanka",
          "v Sri Lanka",
          "v Sri Lanka",
          "v Sri Lanka",
          "v Sri Lanka",
          "v Sri Lanka",
          "v Sri Lanka",
          "v Sri Lanka",
          "v Sri Lanka",
          "v Sri Lanka",
          "v Sri Lanka",
          "v Sri Lanka",
          "v Sri Lanka",
          "v Sri Lanka",
          "v Sri Lanka",
          "v Sri Lanka",
          "v Sri Lanka",
          "v Sri Lanka",
          "v Sri Lanka",
          "v Sri Lanka"
         ],
         "x0": " ",
         "xaxis": "x",
         "y": [
          null,
          null,
          2,
          null,
          null,
          null,
          null,
          null,
          0,
          0,
          1,
          3,
          1,
          1,
          null,
          0,
          null,
          null,
          0,
          0,
          2,
          0,
          1,
          0,
          0,
          0,
          0,
          null,
          null,
          1,
          null,
          null,
          0,
          0,
          null,
          0,
          0,
          null,
          null,
          null,
          null,
          2,
          0,
          0,
          1,
          null,
          0,
          null,
          1,
          0,
          null,
          null,
          1,
          2,
          null,
          null,
          0,
          null,
          null,
          null,
          null,
          null,
          1,
          0,
          1,
          null,
          0,
          null,
          null,
          null,
          null,
          0,
          null,
          null,
          null,
          null,
          null,
          null,
          0,
          null,
          null,
          null,
          null,
          null
         ],
         "y0": " ",
         "yaxis": "y"
        },
        {
         "alignmentgroup": "True",
         "hovertemplate": "opposition=%{x}<br>new_wickets=%{y}<extra></extra>",
         "legendgroup": "v England",
         "marker": {
          "color": "#00B0F6"
         },
         "name": "v England",
         "notched": false,
         "offsetgroup": "v England",
         "orientation": "v",
         "showlegend": true,
         "type": "box",
         "x": [
          "v England",
          "v England",
          "v England",
          "v England",
          "v England",
          "v England",
          "v England",
          "v England",
          "v England",
          "v England",
          "v England",
          "v England",
          "v England",
          "v England",
          "v England",
          "v England",
          "v England",
          "v England",
          "v England",
          "v England",
          "v England",
          "v England",
          "v England",
          "v England",
          "v England",
          "v England",
          "v England",
          "v England",
          "v England",
          "v England",
          "v England",
          "v England",
          "v England",
          "v England",
          "v England",
          "v England",
          "v England"
         ],
         "x0": " ",
         "xaxis": "x",
         "y": [
          null,
          0,
          0,
          null,
          0,
          null,
          null,
          null,
          null,
          0,
          0,
          0,
          0,
          null,
          0,
          0,
          0,
          0,
          1,
          1,
          null,
          null,
          0,
          null,
          1,
          null,
          null,
          0,
          null,
          null,
          0,
          0,
          0,
          null,
          null,
          null,
          null
         ],
         "y0": " ",
         "yaxis": "y"
        },
        {
         "alignmentgroup": "True",
         "hovertemplate": "opposition=%{x}<br>new_wickets=%{y}<extra></extra>",
         "legendgroup": "v Bangladesh",
         "marker": {
          "color": "#E76BF3"
         },
         "name": "v Bangladesh",
         "notched": false,
         "offsetgroup": "v Bangladesh",
         "orientation": "v",
         "showlegend": true,
         "type": "box",
         "x": [
          "v Bangladesh",
          "v Bangladesh",
          "v Bangladesh",
          "v Bangladesh",
          "v Bangladesh",
          "v Bangladesh",
          "v Bangladesh",
          "v Bangladesh",
          "v Bangladesh",
          "v Bangladesh",
          "v Bangladesh",
          "v Bangladesh"
         ],
         "x0": " ",
         "xaxis": "x",
         "y": [
          0,
          null,
          1,
          0,
          2,
          2,
          3,
          null,
          4,
          0,
          null,
          null
         ],
         "y0": " ",
         "yaxis": "y"
        },
        {
         "alignmentgroup": "True",
         "hovertemplate": "opposition=%{x}<br>new_wickets=%{y}<extra></extra>",
         "legendgroup": "v West Indies",
         "marker": {
          "color": "#F8766D"
         },
         "name": "v West Indies",
         "notched": false,
         "offsetgroup": "v West Indies",
         "orientation": "v",
         "showlegend": true,
         "type": "box",
         "x": [
          "v West Indies",
          "v West Indies",
          "v West Indies",
          "v West Indies",
          "v West Indies",
          "v West Indies",
          "v West Indies",
          "v West Indies",
          "v West Indies",
          "v West Indies",
          "v West Indies",
          "v West Indies",
          "v West Indies",
          "v West Indies",
          "v West Indies",
          "v West Indies",
          "v West Indies",
          "v West Indies",
          "v West Indies",
          "v West Indies",
          "v West Indies",
          "v West Indies",
          "v West Indies",
          "v West Indies",
          "v West Indies",
          "v West Indies",
          "v West Indies",
          "v West Indies",
          "v West Indies",
          "v West Indies",
          "v West Indies",
          "v West Indies",
          "v West Indies",
          "v West Indies",
          "v West Indies",
          "v West Indies",
          "v West Indies",
          "v West Indies",
          "v West Indies"
         ],
         "x0": " ",
         "xaxis": "x",
         "y": [
          null,
          4,
          1,
          0,
          0,
          0,
          0,
          0,
          1,
          0,
          null,
          3,
          2,
          1,
          1,
          0,
          0,
          null,
          0,
          0,
          1,
          0,
          0,
          2,
          null,
          null,
          0,
          0,
          null,
          null,
          1,
          null,
          null,
          null,
          1,
          2,
          0,
          null,
          null
         ],
         "y0": " ",
         "yaxis": "y"
        },
        {
         "alignmentgroup": "True",
         "hovertemplate": "opposition=%{x}<br>new_wickets=%{y}<extra></extra>",
         "legendgroup": "v South Africa",
         "marker": {
          "color": "#A3A500"
         },
         "name": "v South Africa",
         "notched": false,
         "offsetgroup": "v South Africa",
         "orientation": "v",
         "showlegend": true,
         "type": "box",
         "x": [
          "v South Africa",
          "v South Africa",
          "v South Africa",
          "v South Africa",
          "v South Africa",
          "v South Africa",
          "v South Africa",
          "v South Africa",
          "v South Africa",
          "v South Africa",
          "v South Africa",
          "v South Africa",
          "v South Africa",
          "v South Africa",
          "v South Africa",
          "v South Africa",
          "v South Africa",
          "v South Africa",
          "v South Africa",
          "v South Africa",
          "v South Africa",
          "v South Africa",
          "v South Africa",
          "v South Africa",
          "v South Africa",
          "v South Africa",
          "v South Africa",
          "v South Africa",
          "v South Africa",
          "v South Africa",
          "v South Africa",
          "v South Africa",
          "v South Africa",
          "v South Africa",
          "v South Africa",
          "v South Africa",
          "v South Africa",
          "v South Africa",
          "v South Africa",
          "v South Africa",
          "v South Africa",
          "v South Africa",
          "v South Africa",
          "v South Africa",
          "v South Africa",
          "v South Africa",
          "v South Africa",
          "v South Africa",
          "v South Africa",
          "v South Africa",
          "v South Africa",
          "v South Africa",
          "v South Africa",
          "v South Africa",
          "v South Africa",
          "v South Africa",
          "v South Africa"
         ],
         "x0": " ",
         "xaxis": "x",
         "y": [
          1,
          0,
          0,
          0,
          1,
          0,
          0,
          0,
          0,
          null,
          null,
          null,
          0,
          0,
          0,
          null,
          0,
          0,
          0,
          0,
          null,
          null,
          null,
          null,
          0,
          null,
          1,
          0,
          0,
          1,
          4,
          0,
          1,
          0,
          0,
          2,
          0,
          0,
          null,
          2,
          0,
          1,
          null,
          null,
          null,
          0,
          0,
          1,
          null,
          null,
          0,
          2,
          null,
          null,
          null,
          null,
          null
         ],
         "y0": " ",
         "yaxis": "y"
        },
        {
         "alignmentgroup": "True",
         "hovertemplate": "opposition=%{x}<br>new_wickets=%{y}<extra></extra>",
         "legendgroup": "v Australia",
         "marker": {
          "color": "#00BF7D"
         },
         "name": "v Australia",
         "notched": false,
         "offsetgroup": "v Australia",
         "orientation": "v",
         "showlegend": true,
         "type": "box",
         "x": [
          "v Australia",
          "v Australia",
          "v Australia",
          "v Australia",
          "v Australia",
          "v Australia",
          "v Australia",
          "v Australia",
          "v Australia",
          "v Australia",
          "v Australia",
          "v Australia",
          "v Australia",
          "v Australia",
          "v Australia",
          "v Australia",
          "v Australia",
          "v Australia",
          "v Australia",
          "v Australia",
          "v Australia",
          "v Australia",
          "v Australia",
          "v Australia",
          "v Australia",
          "v Australia",
          "v Australia",
          "v Australia",
          "v Australia",
          "v Australia",
          "v Australia",
          "v Australia",
          "v Australia",
          "v Australia",
          "v Australia",
          "v Australia",
          "v Australia",
          "v Australia",
          "v Australia",
          "v Australia",
          "v Australia",
          "v Australia",
          "v Australia",
          "v Australia",
          "v Australia",
          "v Australia",
          "v Australia",
          "v Australia",
          "v Australia",
          "v Australia",
          "v Australia",
          "v Australia",
          "v Australia",
          "v Australia",
          "v Australia",
          "v Australia",
          "v Australia",
          "v Australia",
          "v Australia",
          "v Australia",
          "v Australia",
          "v Australia",
          "v Australia",
          "v Australia",
          "v Australia",
          "v Australia",
          "v Australia",
          "v Australia",
          "v Australia",
          "v Australia",
          "v Australia"
         ],
         "x0": " ",
         "xaxis": "x",
         "y": [
          0,
          null,
          0,
          0,
          1,
          0,
          0,
          0,
          0,
          1,
          null,
          0,
          1,
          0,
          5,
          0,
          0,
          0,
          1,
          0,
          4,
          0,
          null,
          0,
          null,
          1,
          null,
          1,
          null,
          0,
          null,
          0,
          3,
          null,
          0,
          1,
          0,
          null,
          null,
          null,
          null,
          null,
          null,
          1,
          null,
          null,
          null,
          null,
          0,
          0,
          null,
          0,
          0,
          null,
          null,
          0,
          null,
          null,
          null,
          null,
          null,
          null,
          null,
          null,
          null,
          null,
          0,
          0,
          null,
          null,
          null
         ],
         "y0": " ",
         "yaxis": "y"
        },
        {
         "alignmentgroup": "True",
         "hovertemplate": "opposition=%{x}<br>new_wickets=%{y}<extra></extra>",
         "legendgroup": "v Zimbabwe",
         "marker": {
          "color": "#00B0F6"
         },
         "name": "v Zimbabwe",
         "notched": false,
         "offsetgroup": "v Zimbabwe",
         "orientation": "v",
         "showlegend": true,
         "type": "box",
         "x": [
          "v Zimbabwe",
          "v Zimbabwe",
          "v Zimbabwe",
          "v Zimbabwe",
          "v Zimbabwe",
          "v Zimbabwe",
          "v Zimbabwe",
          "v Zimbabwe",
          "v Zimbabwe",
          "v Zimbabwe",
          "v Zimbabwe",
          "v Zimbabwe",
          "v Zimbabwe",
          "v Zimbabwe",
          "v Zimbabwe",
          "v Zimbabwe",
          "v Zimbabwe",
          "v Zimbabwe",
          "v Zimbabwe",
          "v Zimbabwe",
          "v Zimbabwe",
          "v Zimbabwe",
          "v Zimbabwe",
          "v Zimbabwe",
          "v Zimbabwe",
          "v Zimbabwe",
          "v Zimbabwe",
          "v Zimbabwe",
          "v Zimbabwe",
          "v Zimbabwe",
          "v Zimbabwe",
          "v Zimbabwe",
          "v Zimbabwe",
          "v Zimbabwe"
         ],
         "x0": " ",
         "xaxis": "x",
         "y": [
          1,
          0,
          1,
          null,
          0,
          1,
          0,
          0,
          0,
          0,
          0,
          null,
          1,
          0,
          null,
          0,
          0,
          0,
          1,
          1,
          null,
          1,
          0,
          1,
          1,
          1,
          null,
          null,
          null,
          null,
          2,
          null,
          null,
          null
         ],
         "y0": " ",
         "yaxis": "y"
        },
        {
         "alignmentgroup": "True",
         "hovertemplate": "opposition=%{x}<br>new_wickets=%{y}<extra></extra>",
         "legendgroup": "v U.A.E.",
         "marker": {
          "color": "#E76BF3"
         },
         "name": "v U.A.E.",
         "notched": false,
         "offsetgroup": "v U.A.E.",
         "orientation": "v",
         "showlegend": true,
         "type": "box",
         "x": [
          "v U.A.E.",
          "v U.A.E."
         ],
         "x0": " ",
         "xaxis": "x",
         "y": [
          0,
          3
         ],
         "y0": " ",
         "yaxis": "y"
        },
        {
         "alignmentgroup": "True",
         "hovertemplate": "opposition=%{x}<br>new_wickets=%{y}<extra></extra>",
         "legendgroup": "v Kenya",
         "marker": {
          "color": "#F8766D"
         },
         "name": "v Kenya",
         "notched": false,
         "offsetgroup": "v Kenya",
         "orientation": "v",
         "showlegend": true,
         "type": "box",
         "x": [
          "v Kenya",
          "v Kenya",
          "v Kenya",
          "v Kenya",
          "v Kenya",
          "v Kenya",
          "v Kenya",
          "v Kenya",
          "v Kenya",
          "v Kenya"
         ],
         "x0": " ",
         "xaxis": "x",
         "y": [
          0,
          0,
          0,
          0,
          0,
          null,
          null,
          null,
          null,
          2
         ],
         "y0": " ",
         "yaxis": "y"
        },
        {
         "alignmentgroup": "True",
         "hovertemplate": "opposition=%{x}<br>new_wickets=%{y}<extra></extra>",
         "legendgroup": "v Netherlands",
         "marker": {
          "color": "#A3A500"
         },
         "name": "v Netherlands",
         "notched": false,
         "offsetgroup": "v Netherlands",
         "orientation": "v",
         "showlegend": true,
         "type": "box",
         "x": [
          "v Netherlands",
          "v Netherlands"
         ],
         "x0": " ",
         "xaxis": "x",
         "y": [
          0,
          null
         ],
         "y0": " ",
         "yaxis": "y"
        },
        {
         "alignmentgroup": "True",
         "hovertemplate": "opposition=%{x}<br>new_wickets=%{y}<extra></extra>",
         "legendgroup": "v Namibia",
         "marker": {
          "color": "#00BF7D"
         },
         "name": "v Namibia",
         "notched": false,
         "offsetgroup": "v Namibia",
         "orientation": "v",
         "showlegend": true,
         "type": "box",
         "x": [
          "v Namibia"
         ],
         "x0": " ",
         "xaxis": "x",
         "y": [
          null
         ],
         "y0": " ",
         "yaxis": "y"
        },
        {
         "alignmentgroup": "True",
         "hovertemplate": "opposition=%{x}<br>new_wickets=%{y}<extra></extra>",
         "legendgroup": "v Bermuda",
         "marker": {
          "color": "#00B0F6"
         },
         "name": "v Bermuda",
         "notched": false,
         "offsetgroup": "v Bermuda",
         "orientation": "v",
         "showlegend": true,
         "type": "box",
         "x": [
          "v Bermuda"
         ],
         "x0": " ",
         "xaxis": "x",
         "y": [
          1
         ],
         "y0": " ",
         "yaxis": "y"
        },
        {
         "alignmentgroup": "True",
         "hovertemplate": "opposition=%{x}<br>new_wickets=%{y}<extra></extra>",
         "legendgroup": "v Ireland",
         "marker": {
          "color": "#E76BF3"
         },
         "name": "v Ireland",
         "notched": false,
         "offsetgroup": "v Ireland",
         "orientation": "v",
         "showlegend": true,
         "type": "box",
         "x": [
          "v Ireland",
          "v Ireland"
         ],
         "x0": " ",
         "xaxis": "x",
         "y": [
          1,
          null
         ],
         "y0": " ",
         "yaxis": "y"
        }
       ],
       "layout": {
        "autosize": true,
        "boxmode": "group",
        "legend": {
         "title": {
          "text": "opposition"
         },
         "tracegroupgap": 0
        },
        "template": {
         "data": {
          "bar": [
           {
            "error_x": {
             "color": "rgb(51,51,51)"
            },
            "error_y": {
             "color": "rgb(51,51,51)"
            },
            "marker": {
             "line": {
              "color": "rgb(237,237,237)",
              "width": 0.5
             },
             "pattern": {
              "fillmode": "overlay",
              "size": 10,
              "solidity": 0.2
             }
            },
            "type": "bar"
           }
          ],
          "barpolar": [
           {
            "marker": {
             "line": {
              "color": "rgb(237,237,237)",
              "width": 0.5
             },
             "pattern": {
              "fillmode": "overlay",
              "size": 10,
              "solidity": 0.2
             }
            },
            "type": "barpolar"
           }
          ],
          "carpet": [
           {
            "aaxis": {
             "endlinecolor": "rgb(51,51,51)",
             "gridcolor": "white",
             "linecolor": "white",
             "minorgridcolor": "white",
             "startlinecolor": "rgb(51,51,51)"
            },
            "baxis": {
             "endlinecolor": "rgb(51,51,51)",
             "gridcolor": "white",
             "linecolor": "white",
             "minorgridcolor": "white",
             "startlinecolor": "rgb(51,51,51)"
            },
            "type": "carpet"
           }
          ],
          "choropleth": [
           {
            "colorbar": {
             "outlinewidth": 0,
             "tickcolor": "rgb(237,237,237)",
             "ticklen": 6,
             "ticks": "inside"
            },
            "type": "choropleth"
           }
          ],
          "contour": [
           {
            "colorbar": {
             "outlinewidth": 0,
             "tickcolor": "rgb(237,237,237)",
             "ticklen": 6,
             "ticks": "inside"
            },
            "colorscale": [
             [
              0,
              "rgb(20,44,66)"
             ],
             [
              1,
              "rgb(90,179,244)"
             ]
            ],
            "type": "contour"
           }
          ],
          "contourcarpet": [
           {
            "colorbar": {
             "outlinewidth": 0,
             "tickcolor": "rgb(237,237,237)",
             "ticklen": 6,
             "ticks": "inside"
            },
            "type": "contourcarpet"
           }
          ],
          "heatmap": [
           {
            "colorbar": {
             "outlinewidth": 0,
             "tickcolor": "rgb(237,237,237)",
             "ticklen": 6,
             "ticks": "inside"
            },
            "colorscale": [
             [
              0,
              "rgb(20,44,66)"
             ],
             [
              1,
              "rgb(90,179,244)"
             ]
            ],
            "type": "heatmap"
           }
          ],
          "heatmapgl": [
           {
            "colorbar": {
             "outlinewidth": 0,
             "tickcolor": "rgb(237,237,237)",
             "ticklen": 6,
             "ticks": "inside"
            },
            "colorscale": [
             [
              0,
              "rgb(20,44,66)"
             ],
             [
              1,
              "rgb(90,179,244)"
             ]
            ],
            "type": "heatmapgl"
           }
          ],
          "histogram": [
           {
            "marker": {
             "pattern": {
              "fillmode": "overlay",
              "size": 10,
              "solidity": 0.2
             }
            },
            "type": "histogram"
           }
          ],
          "histogram2d": [
           {
            "colorbar": {
             "outlinewidth": 0,
             "tickcolor": "rgb(237,237,237)",
             "ticklen": 6,
             "ticks": "inside"
            },
            "colorscale": [
             [
              0,
              "rgb(20,44,66)"
             ],
             [
              1,
              "rgb(90,179,244)"
             ]
            ],
            "type": "histogram2d"
           }
          ],
          "histogram2dcontour": [
           {
            "colorbar": {
             "outlinewidth": 0,
             "tickcolor": "rgb(237,237,237)",
             "ticklen": 6,
             "ticks": "inside"
            },
            "colorscale": [
             [
              0,
              "rgb(20,44,66)"
             ],
             [
              1,
              "rgb(90,179,244)"
             ]
            ],
            "type": "histogram2dcontour"
           }
          ],
          "mesh3d": [
           {
            "colorbar": {
             "outlinewidth": 0,
             "tickcolor": "rgb(237,237,237)",
             "ticklen": 6,
             "ticks": "inside"
            },
            "type": "mesh3d"
           }
          ],
          "parcoords": [
           {
            "line": {
             "colorbar": {
              "outlinewidth": 0,
              "tickcolor": "rgb(237,237,237)",
              "ticklen": 6,
              "ticks": "inside"
             }
            },
            "type": "parcoords"
           }
          ],
          "pie": [
           {
            "automargin": true,
            "type": "pie"
           }
          ],
          "scatter": [
           {
            "fillpattern": {
             "fillmode": "overlay",
             "size": 10,
             "solidity": 0.2
            },
            "type": "scatter"
           }
          ],
          "scatter3d": [
           {
            "line": {
             "colorbar": {
              "outlinewidth": 0,
              "tickcolor": "rgb(237,237,237)",
              "ticklen": 6,
              "ticks": "inside"
             }
            },
            "marker": {
             "colorbar": {
              "outlinewidth": 0,
              "tickcolor": "rgb(237,237,237)",
              "ticklen": 6,
              "ticks": "inside"
             }
            },
            "type": "scatter3d"
           }
          ],
          "scattercarpet": [
           {
            "marker": {
             "colorbar": {
              "outlinewidth": 0,
              "tickcolor": "rgb(237,237,237)",
              "ticklen": 6,
              "ticks": "inside"
             }
            },
            "type": "scattercarpet"
           }
          ],
          "scattergeo": [
           {
            "marker": {
             "colorbar": {
              "outlinewidth": 0,
              "tickcolor": "rgb(237,237,237)",
              "ticklen": 6,
              "ticks": "inside"
             }
            },
            "type": "scattergeo"
           }
          ],
          "scattergl": [
           {
            "marker": {
             "colorbar": {
              "outlinewidth": 0,
              "tickcolor": "rgb(237,237,237)",
              "ticklen": 6,
              "ticks": "inside"
             }
            },
            "type": "scattergl"
           }
          ],
          "scattermapbox": [
           {
            "marker": {
             "colorbar": {
              "outlinewidth": 0,
              "tickcolor": "rgb(237,237,237)",
              "ticklen": 6,
              "ticks": "inside"
             }
            },
            "type": "scattermapbox"
           }
          ],
          "scatterpolar": [
           {
            "marker": {
             "colorbar": {
              "outlinewidth": 0,
              "tickcolor": "rgb(237,237,237)",
              "ticklen": 6,
              "ticks": "inside"
             }
            },
            "type": "scatterpolar"
           }
          ],
          "scatterpolargl": [
           {
            "marker": {
             "colorbar": {
              "outlinewidth": 0,
              "tickcolor": "rgb(237,237,237)",
              "ticklen": 6,
              "ticks": "inside"
             }
            },
            "type": "scatterpolargl"
           }
          ],
          "scatterternary": [
           {
            "marker": {
             "colorbar": {
              "outlinewidth": 0,
              "tickcolor": "rgb(237,237,237)",
              "ticklen": 6,
              "ticks": "inside"
             }
            },
            "type": "scatterternary"
           }
          ],
          "surface": [
           {
            "colorbar": {
             "outlinewidth": 0,
             "tickcolor": "rgb(237,237,237)",
             "ticklen": 6,
             "ticks": "inside"
            },
            "colorscale": [
             [
              0,
              "rgb(20,44,66)"
             ],
             [
              1,
              "rgb(90,179,244)"
             ]
            ],
            "type": "surface"
           }
          ],
          "table": [
           {
            "cells": {
             "fill": {
              "color": "rgb(237,237,237)"
             },
             "line": {
              "color": "white"
             }
            },
            "header": {
             "fill": {
              "color": "rgb(217,217,217)"
             },
             "line": {
              "color": "white"
             }
            },
            "type": "table"
           }
          ]
         },
         "layout": {
          "annotationdefaults": {
           "arrowhead": 0,
           "arrowwidth": 1
          },
          "autotypenumbers": "strict",
          "coloraxis": {
           "colorbar": {
            "outlinewidth": 0,
            "tickcolor": "rgb(237,237,237)",
            "ticklen": 6,
            "ticks": "inside"
           }
          },
          "colorscale": {
           "sequential": [
            [
             0,
             "rgb(20,44,66)"
            ],
            [
             1,
             "rgb(90,179,244)"
            ]
           ],
           "sequentialminus": [
            [
             0,
             "rgb(20,44,66)"
            ],
            [
             1,
             "rgb(90,179,244)"
            ]
           ]
          },
          "colorway": [
           "#F8766D",
           "#A3A500",
           "#00BF7D",
           "#00B0F6",
           "#E76BF3"
          ],
          "font": {
           "color": "rgb(51,51,51)"
          },
          "geo": {
           "bgcolor": "white",
           "lakecolor": "white",
           "landcolor": "rgb(237,237,237)",
           "showlakes": true,
           "showland": true,
           "subunitcolor": "white"
          },
          "hoverlabel": {
           "align": "left"
          },
          "hovermode": "closest",
          "paper_bgcolor": "white",
          "plot_bgcolor": "rgb(237,237,237)",
          "polar": {
           "angularaxis": {
            "gridcolor": "white",
            "linecolor": "white",
            "showgrid": true,
            "tickcolor": "rgb(51,51,51)",
            "ticks": "outside"
           },
           "bgcolor": "rgb(237,237,237)",
           "radialaxis": {
            "gridcolor": "white",
            "linecolor": "white",
            "showgrid": true,
            "tickcolor": "rgb(51,51,51)",
            "ticks": "outside"
           }
          },
          "scene": {
           "xaxis": {
            "backgroundcolor": "rgb(237,237,237)",
            "gridcolor": "white",
            "gridwidth": 2,
            "linecolor": "white",
            "showbackground": true,
            "showgrid": true,
            "tickcolor": "rgb(51,51,51)",
            "ticks": "outside",
            "zerolinecolor": "white"
           },
           "yaxis": {
            "backgroundcolor": "rgb(237,237,237)",
            "gridcolor": "white",
            "gridwidth": 2,
            "linecolor": "white",
            "showbackground": true,
            "showgrid": true,
            "tickcolor": "rgb(51,51,51)",
            "ticks": "outside",
            "zerolinecolor": "white"
           },
           "zaxis": {
            "backgroundcolor": "rgb(237,237,237)",
            "gridcolor": "white",
            "gridwidth": 2,
            "linecolor": "white",
            "showbackground": true,
            "showgrid": true,
            "tickcolor": "rgb(51,51,51)",
            "ticks": "outside",
            "zerolinecolor": "white"
           }
          },
          "shapedefaults": {
           "fillcolor": "black",
           "line": {
            "width": 0
           },
           "opacity": 0.3
          },
          "ternary": {
           "aaxis": {
            "gridcolor": "white",
            "linecolor": "white",
            "showgrid": true,
            "tickcolor": "rgb(51,51,51)",
            "ticks": "outside"
           },
           "baxis": {
            "gridcolor": "white",
            "linecolor": "white",
            "showgrid": true,
            "tickcolor": "rgb(51,51,51)",
            "ticks": "outside"
           },
           "bgcolor": "rgb(237,237,237)",
           "caxis": {
            "gridcolor": "white",
            "linecolor": "white",
            "showgrid": true,
            "tickcolor": "rgb(51,51,51)",
            "ticks": "outside"
           }
          },
          "xaxis": {
           "automargin": true,
           "gridcolor": "white",
           "linecolor": "white",
           "showgrid": true,
           "tickcolor": "rgb(51,51,51)",
           "ticks": "outside",
           "title": {
            "standoff": 15
           },
           "zerolinecolor": "white"
          },
          "yaxis": {
           "automargin": true,
           "gridcolor": "white",
           "linecolor": "white",
           "showgrid": true,
           "tickcolor": "rgb(51,51,51)",
           "ticks": "outside",
           "title": {
            "standoff": 15
           },
           "zerolinecolor": "white"
          }
         }
        },
        "title": {
         "font": {
          "size": 18
         },
         "text": "Wickets vs Opposition"
        },
        "xaxis": {
         "anchor": "y",
         "autorange": true,
         "categoryarray": [
          "v Pakistan",
          "v New Zealand",
          "v Sri Lanka",
          "v England",
          "v Bangladesh",
          "v West Indies",
          "v South Africa",
          "v Australia",
          "v Zimbabwe",
          "v U.A.E.",
          "v Kenya",
          "v Netherlands",
          "v Namibia",
          "v Bermuda",
          "v Ireland"
         ],
         "categoryorder": "array",
         "domain": [
          0,
          1
         ],
         "range": [
          -0.552570093457944,
          14.552570093457945
         ],
         "title": {
          "text": "Opposition"
         },
         "type": "category"
        },
        "yaxis": {
         "anchor": "x",
         "autorange": true,
         "domain": [
          0,
          1
         ],
         "range": [
          -0.27777777777777773,
          5.277777777777778
         ],
         "title": {
          "text": "Wickets Taken"
         },
         "type": "linear"
        }
       }
      },
      "image/png": "[encoded data removed]",
      "text/html": [
       "<div>                            <div id=\"dd1cb1c3-a79b-4e73-a679-da29e7911b86\" class=\"plotly-graph-div\" style=\"height:525px; width:100%;\"></div>            <script type=\"text/javascript\">                require([\"plotly\"], function(Plotly) {                    window.PLOTLYENV=window.PLOTLYENV || {};                                    if (document.getElementById(\"dd1cb1c3-a79b-4e73-a679-da29e7911b86\")) {                    Plotly.newPlot(                        \"dd1cb1c3-a79b-4e73-a679-da29e7911b86\",                        [{\"alignmentgroup\":\"True\",\"hovertemplate\":\"opposition=%{x}\\u003cbr\\u003enew_wickets=%{y}\\u003cextra\\u003e\\u003c\\u002fextra\\u003e\",\"legendgroup\":\"v Pakistan\",\"marker\":{\"color\":\"#F8766D\"},\"name\":\"v Pakistan\",\"notched\":false,\"offsetgroup\":\"v Pakistan\",\"orientation\":\"v\",\"showlegend\":true,\"x\":[\"v Pakistan\",\"v Pakistan\",\"v Pakistan\",\"v Pakistan\",\"v Pakistan\",\"v Pakistan\",\"v Pakistan\",\"v Pakistan\",\"v Pakistan\",\"v Pakistan\",\"v Pakistan\",\"v Pakistan\",\"v Pakistan\",\"v Pakistan\",\"v Pakistan\",\"v Pakistan\",\"v Pakistan\",\"v Pakistan\",\"v Pakistan\",\"v Pakistan\",\"v Pakistan\",\"v Pakistan\",\"v Pakistan\",\"v Pakistan\",\"v Pakistan\",\"v Pakistan\",\"v Pakistan\",\"v Pakistan\",\"v Pakistan\",\"v Pakistan\",\"v Pakistan\",\"v Pakistan\",\"v Pakistan\",\"v Pakistan\",\"v Pakistan\",\"v Pakistan\",\"v Pakistan\",\"v Pakistan\",\"v Pakistan\",\"v Pakistan\",\"v Pakistan\",\"v Pakistan\",\"v Pakistan\",\"v Pakistan\",\"v Pakistan\",\"v Pakistan\",\"v Pakistan\",\"v Pakistan\",\"v Pakistan\",\"v Pakistan\",\"v Pakistan\",\"v Pakistan\",\"v Pakistan\",\"v Pakistan\",\"v Pakistan\",\"v Pakistan\",\"v Pakistan\",\"v Pakistan\",\"v Pakistan\",\"v Pakistan\",\"v Pakistan\",\"v Pakistan\",\"v Pakistan\",\"v Pakistan\",\"v Pakistan\",\"v Pakistan\",\"v Pakistan\",\"v Pakistan\",\"v Pakistan\"],\"x0\":\" \",\"xaxis\":\"x\",\"y\":[null,null,null,0.0,0.0,1.0,0.0,0.0,0.0,0.0,0.0,1.0,2.0,0.0,1.0,0.0,1.0,null,2.0,null,0.0,null,0.0,null,null,null,0.0,0.0,null,null,1.0,3.0,0.0,1.0,null,null,null,0.0,null,null,0.0,0.0,0.0,null,0.0,0.0,1.0,1.0,0.0,3.0,0.0,5.0,0.0,0.0,1.0,1.0,0.0,null,0.0,1.0,1.0,2.0,0.0,0.0,null,null,null,null,0.0],\"y0\":\" \",\"yaxis\":\"y\",\"type\":\"box\"},{\"alignmentgroup\":\"True\",\"hovertemplate\":\"opposition=%{x}\\u003cbr\\u003enew_wickets=%{y}\\u003cextra\\u003e\\u003c\\u002fextra\\u003e\",\"legendgroup\":\"v New Zealand\",\"marker\":{\"color\":\"#A3A500\"},\"name\":\"v New Zealand\",\"notched\":false,\"offsetgroup\":\"v New Zealand\",\"orientation\":\"v\",\"showlegend\":true,\"x\":[\"v New Zealand\",\"v New Zealand\",\"v New Zealand\",\"v New Zealand\",\"v New Zealand\",\"v New Zealand\",\"v New Zealand\",\"v New Zealand\",\"v New Zealand\",\"v New Zealand\",\"v New Zealand\",\"v New Zealand\",\"v New Zealand\",\"v New Zealand\",\"v New Zealand\",\"v New Zealand\",\"v New Zealand\",\"v New Zealand\",\"v New Zealand\",\"v New Zealand\",\"v New Zealand\",\"v New Zealand\",\"v New Zealand\",\"v New Zealand\",\"v New Zealand\",\"v New Zealand\",\"v New Zealand\",\"v New Zealand\",\"v New Zealand\",\"v New Zealand\",\"v New Zealand\",\"v New Zealand\",\"v New Zealand\",\"v New Zealand\",\"v New Zealand\",\"v New Zealand\",\"v New Zealand\",\"v New Zealand\",\"v New Zealand\",\"v New Zealand\",\"v New Zealand\",\"v New Zealand\"],\"x0\":\" \",\"xaxis\":\"x\",\"y\":[null,null,0.0,0.0,null,0.0,0.0,0.0,2.0,null,0.0,1.0,2.0,0.0,null,0.0,0.0,1.0,1.0,null,1.0,3.0,null,1.0,0.0,0.0,null,null,null,null,1.0,null,null,null,0.0,null,0.0,0.0,null,null,null,null],\"y0\":\" \",\"yaxis\":\"y\",\"type\":\"box\"},{\"alignmentgroup\":\"True\",\"hovertemplate\":\"opposition=%{x}\\u003cbr\\u003enew_wickets=%{y}\\u003cextra\\u003e\\u003c\\u002fextra\\u003e\",\"legendgroup\":\"v Sri Lanka\",\"marker\":{\"color\":\"#00BF7D\"},\"name\":\"v Sri Lanka\",\"notched\":false,\"offsetgroup\":\"v Sri Lanka\",\"orientation\":\"v\",\"showlegend\":true,\"x\":[\"v Sri Lanka\",\"v Sri Lanka\",\"v Sri Lanka\",\"v Sri Lanka\",\"v Sri Lanka\",\"v Sri Lanka\",\"v Sri Lanka\",\"v Sri Lanka\",\"v Sri Lanka\",\"v Sri Lanka\",\"v Sri Lanka\",\"v Sri Lanka\",\"v Sri Lanka\",\"v Sri Lanka\",\"v Sri Lanka\",\"v Sri Lanka\",\"v Sri Lanka\",\"v Sri Lanka\",\"v Sri Lanka\",\"v Sri Lanka\",\"v Sri Lanka\",\"v Sri Lanka\",\"v Sri Lanka\",\"v Sri Lanka\",\"v Sri Lanka\",\"v Sri Lanka\",\"v Sri Lanka\",\"v Sri Lanka\",\"v Sri Lanka\",\"v Sri Lanka\",\"v Sri Lanka\",\"v Sri Lanka\",\"v Sri Lanka\",\"v Sri Lanka\",\"v Sri Lanka\",\"v Sri Lanka\",\"v Sri Lanka\",\"v Sri Lanka\",\"v Sri Lanka\",\"v Sri Lanka\",\"v Sri Lanka\",\"v Sri Lanka\",\"v Sri Lanka\",\"v Sri Lanka\",\"v Sri Lanka\",\"v Sri Lanka\",\"v Sri Lanka\",\"v Sri Lanka\",\"v Sri Lanka\",\"v Sri Lanka\",\"v Sri Lanka\",\"v Sri Lanka\",\"v Sri Lanka\",\"v Sri Lanka\",\"v Sri Lanka\",\"v Sri Lanka\",\"v Sri Lanka\",\"v Sri Lanka\",\"v Sri Lanka\",\"v Sri Lanka\",\"v Sri Lanka\",\"v Sri Lanka\",\"v Sri Lanka\",\"v Sri Lanka\",\"v Sri Lanka\",\"v Sri Lanka\",\"v Sri Lanka\",\"v Sri Lanka\",\"v Sri Lanka\",\"v Sri Lanka\",\"v Sri Lanka\",\"v Sri Lanka\",\"v Sri Lanka\",\"v Sri Lanka\",\"v Sri Lanka\",\"v Sri Lanka\",\"v Sri Lanka\",\"v Sri Lanka\",\"v Sri Lanka\",\"v Sri Lanka\",\"v Sri Lanka\",\"v Sri Lanka\",\"v Sri Lanka\",\"v Sri Lanka\"],\"x0\":\" \",\"xaxis\":\"x\",\"y\":[null,null,2.0,null,null,null,null,null,0.0,0.0,1.0,3.0,1.0,1.0,null,0.0,null,null,0.0,0.0,2.0,0.0,1.0,0.0,0.0,0.0,0.0,null,null,1.0,null,null,0.0,0.0,null,0.0,0.0,null,null,null,null,2.0,0.0,0.0,1.0,null,0.0,null,1.0,0.0,null,null,1.0,2.0,null,null,0.0,null,null,null,null,null,1.0,0.0,1.0,null,0.0,null,null,null,null,0.0,null,null,null,null,null,null,0.0,null,null,null,null,null],\"y0\":\" \",\"yaxis\":\"y\",\"type\":\"box\"},{\"alignmentgroup\":\"True\",\"hovertemplate\":\"opposition=%{x}\\u003cbr\\u003enew_wickets=%{y}\\u003cextra\\u003e\\u003c\\u002fextra\\u003e\",\"legendgroup\":\"v England\",\"marker\":{\"color\":\"#00B0F6\"},\"name\":\"v England\",\"notched\":false,\"offsetgroup\":\"v England\",\"orientation\":\"v\",\"showlegend\":true,\"x\":[\"v England\",\"v England\",\"v England\",\"v England\",\"v England\",\"v England\",\"v England\",\"v England\",\"v England\",\"v England\",\"v England\",\"v England\",\"v England\",\"v England\",\"v England\",\"v England\",\"v England\",\"v England\",\"v England\",\"v England\",\"v England\",\"v England\",\"v England\",\"v England\",\"v England\",\"v England\",\"v England\",\"v England\",\"v England\",\"v England\",\"v England\",\"v England\",\"v England\",\"v England\",\"v England\",\"v England\",\"v England\"],\"x0\":\" \",\"xaxis\":\"x\",\"y\":[null,0.0,0.0,null,0.0,null,null,null,null,0.0,0.0,0.0,0.0,null,0.0,0.0,0.0,0.0,1.0,1.0,null,null,0.0,null,1.0,null,null,0.0,null,null,0.0,0.0,0.0,null,null,null,null],\"y0\":\" \",\"yaxis\":\"y\",\"type\":\"box\"},{\"alignmentgroup\":\"True\",\"hovertemplate\":\"opposition=%{x}\\u003cbr\\u003enew_wickets=%{y}\\u003cextra\\u003e\\u003c\\u002fextra\\u003e\",\"legendgroup\":\"v Bangladesh\",\"marker\":{\"color\":\"#E76BF3\"},\"name\":\"v Bangladesh\",\"notched\":false,\"offsetgroup\":\"v Bangladesh\",\"orientation\":\"v\",\"showlegend\":true,\"x\":[\"v Bangladesh\",\"v Bangladesh\",\"v Bangladesh\",\"v Bangladesh\",\"v Bangladesh\",\"v Bangladesh\",\"v Bangladesh\",\"v Bangladesh\",\"v Bangladesh\",\"v Bangladesh\",\"v Bangladesh\",\"v Bangladesh\"],\"x0\":\" \",\"xaxis\":\"x\",\"y\":[0.0,null,1.0,0.0,2.0,2.0,3.0,null,4.0,0.0,null,null],\"y0\":\" \",\"yaxis\":\"y\",\"type\":\"box\"},{\"alignmentgroup\":\"True\",\"hovertemplate\":\"opposition=%{x}\\u003cbr\\u003enew_wickets=%{y}\\u003cextra\\u003e\\u003c\\u002fextra\\u003e\",\"legendgroup\":\"v West Indies\",\"marker\":{\"color\":\"#F8766D\"},\"name\":\"v West Indies\",\"notched\":false,\"offsetgroup\":\"v West Indies\",\"orientation\":\"v\",\"showlegend\":true,\"x\":[\"v West Indies\",\"v West Indies\",\"v West Indies\",\"v West Indies\",\"v West Indies\",\"v West Indies\",\"v West Indies\",\"v West Indies\",\"v West Indies\",\"v West Indies\",\"v West Indies\",\"v West Indies\",\"v West Indies\",\"v West Indies\",\"v West Indies\",\"v West Indies\",\"v West Indies\",\"v West Indies\",\"v West Indies\",\"v West Indies\",\"v West Indies\",\"v West Indies\",\"v West Indies\",\"v West Indies\",\"v West Indies\",\"v West Indies\",\"v West Indies\",\"v West Indies\",\"v West Indies\",\"v West Indies\",\"v West Indies\",\"v West Indies\",\"v West Indies\",\"v West Indies\",\"v West Indies\",\"v West Indies\",\"v West Indies\",\"v West Indies\",\"v West Indies\"],\"x0\":\" \",\"xaxis\":\"x\",\"y\":[null,4.0,1.0,0.0,0.0,0.0,0.0,0.0,1.0,0.0,null,3.0,2.0,1.0,1.0,0.0,0.0,null,0.0,0.0,1.0,0.0,0.0,2.0,null,null,0.0,0.0,null,null,1.0,null,null,null,1.0,2.0,0.0,null,null],\"y0\":\" \",\"yaxis\":\"y\",\"type\":\"box\"},{\"alignmentgroup\":\"True\",\"hovertemplate\":\"opposition=%{x}\\u003cbr\\u003enew_wickets=%{y}\\u003cextra\\u003e\\u003c\\u002fextra\\u003e\",\"legendgroup\":\"v South Africa\",\"marker\":{\"color\":\"#A3A500\"},\"name\":\"v South Africa\",\"notched\":false,\"offsetgroup\":\"v South Africa\",\"orientation\":\"v\",\"showlegend\":true,\"x\":[\"v South Africa\",\"v South Africa\",\"v South Africa\",\"v South Africa\",\"v South Africa\",\"v South Africa\",\"v South Africa\",\"v South Africa\",\"v South Africa\",\"v South Africa\",\"v South Africa\",\"v South Africa\",\"v South Africa\",\"v South Africa\",\"v South Africa\",\"v South Africa\",\"v South Africa\",\"v South Africa\",\"v South Africa\",\"v South Africa\",\"v South Africa\",\"v South Africa\",\"v South Africa\",\"v South Africa\",\"v South Africa\",\"v South Africa\",\"v South Africa\",\"v South Africa\",\"v South Africa\",\"v South Africa\",\"v South Africa\",\"v South Africa\",\"v South Africa\",\"v South Africa\",\"v South Africa\",\"v South Africa\",\"v South Africa\",\"v South Africa\",\"v South Africa\",\"v South Africa\",\"v South Africa\",\"v South Africa\",\"v South Africa\",\"v South Africa\",\"v South Africa\",\"v South Africa\",\"v South Africa\",\"v South Africa\",\"v South Africa\",\"v South Africa\",\"v South Africa\",\"v South Africa\",\"v South Africa\",\"v South Africa\",\"v South Africa\",\"v South Africa\",\"v South Africa\"],\"x0\":\" \",\"xaxis\":\"x\",\"y\":[1.0,0.0,0.0,0.0,1.0,0.0,0.0,0.0,0.0,null,null,null,0.0,0.0,0.0,null,0.0,0.0,0.0,0.0,null,null,null,null,0.0,null,1.0,0.0,0.0,1.0,4.0,0.0,1.0,0.0,0.0,2.0,0.0,0.0,null,2.0,0.0,1.0,null,null,null,0.0,0.0,1.0,null,null,0.0,2.0,null,null,null,null,null],\"y0\":\" \",\"yaxis\":\"y\",\"type\":\"box\"},{\"alignmentgroup\":\"True\",\"hovertemplate\":\"opposition=%{x}\\u003cbr\\u003enew_wickets=%{y}\\u003cextra\\u003e\\u003c\\u002fextra\\u003e\",\"legendgroup\":\"v Australia\",\"marker\":{\"color\":\"#00BF7D\"},\"name\":\"v Australia\",\"notched\":false,\"offsetgroup\":\"v Australia\",\"orientation\":\"v\",\"showlegend\":true,\"x\":[\"v Australia\",\"v Australia\",\"v Australia\",\"v Australia\",\"v Australia\",\"v Australia\",\"v Australia\",\"v Australia\",\"v Australia\",\"v Australia\",\"v Australia\",\"v Australia\",\"v Australia\",\"v Australia\",\"v Australia\",\"v Australia\",\"v Australia\",\"v Australia\",\"v Australia\",\"v Australia\",\"v Australia\",\"v Australia\",\"v Australia\",\"v Australia\",\"v Australia\",\"v Australia\",\"v Australia\",\"v Australia\",\"v Australia\",\"v Australia\",\"v Australia\",\"v Australia\",\"v Australia\",\"v Australia\",\"v Australia\",\"v Australia\",\"v Australia\",\"v Australia\",\"v Australia\",\"v Australia\",\"v Australia\",\"v Australia\",\"v Australia\",\"v Australia\",\"v Australia\",\"v Australia\",\"v Australia\",\"v Australia\",\"v Australia\",\"v Australia\",\"v Australia\",\"v Australia\",\"v Australia\",\"v Australia\",\"v Australia\",\"v Australia\",\"v Australia\",\"v Australia\",\"v Australia\",\"v Australia\",\"v Australia\",\"v Australia\",\"v Australia\",\"v Australia\",\"v Australia\",\"v Australia\",\"v Australia\",\"v Australia\",\"v Australia\",\"v Australia\",\"v Australia\"],\"x0\":\" \",\"xaxis\":\"x\",\"y\":[0.0,null,0.0,0.0,1.0,0.0,0.0,0.0,0.0,1.0,null,0.0,1.0,0.0,5.0,0.0,0.0,0.0,1.0,0.0,4.0,0.0,null,0.0,null,1.0,null,1.0,null,0.0,null,0.0,3.0,null,0.0,1.0,0.0,null,null,null,null,null,null,1.0,null,null,null,null,0.0,0.0,null,0.0,0.0,null,null,0.0,null,null,null,null,null,null,null,null,null,null,0.0,0.0,null,null,null],\"y0\":\" \",\"yaxis\":\"y\",\"type\":\"box\"},{\"alignmentgroup\":\"True\",\"hovertemplate\":\"opposition=%{x}\\u003cbr\\u003enew_wickets=%{y}\\u003cextra\\u003e\\u003c\\u002fextra\\u003e\",\"legendgroup\":\"v Zimbabwe\",\"marker\":{\"color\":\"#00B0F6\"},\"name\":\"v Zimbabwe\",\"notched\":false,\"offsetgroup\":\"v Zimbabwe\",\"orientation\":\"v\",\"showlegend\":true,\"x\":[\"v Zimbabwe\",\"v Zimbabwe\",\"v Zimbabwe\",\"v Zimbabwe\",\"v Zimbabwe\",\"v Zimbabwe\",\"v Zimbabwe\",\"v Zimbabwe\",\"v Zimbabwe\",\"v Zimbabwe\",\"v Zimbabwe\",\"v Zimbabwe\",\"v Zimbabwe\",\"v Zimbabwe\",\"v Zimbabwe\",\"v Zimbabwe\",\"v Zimbabwe\",\"v Zimbabwe\",\"v Zimbabwe\",\"v Zimbabwe\",\"v Zimbabwe\",\"v Zimbabwe\",\"v Zimbabwe\",\"v Zimbabwe\",\"v Zimbabwe\",\"v Zimbabwe\",\"v Zimbabwe\",\"v Zimbabwe\",\"v Zimbabwe\",\"v Zimbabwe\",\"v Zimbabwe\",\"v Zimbabwe\",\"v Zimbabwe\",\"v Zimbabwe\"],\"x0\":\" \",\"xaxis\":\"x\",\"y\":[1.0,0.0,1.0,null,0.0,1.0,0.0,0.0,0.0,0.0,0.0,null,1.0,0.0,null,0.0,0.0,0.0,1.0,1.0,null,1.0,0.0,1.0,1.0,1.0,null,null,null,null,2.0,null,null,null],\"y0\":\" \",\"yaxis\":\"y\",\"type\":\"box\"},{\"alignmentgroup\":\"True\",\"hovertemplate\":\"opposition=%{x}\\u003cbr\\u003enew_wickets=%{y}\\u003cextra\\u003e\\u003c\\u002fextra\\u003e\",\"legendgroup\":\"v U.A.E.\",\"marker\":{\"color\":\"#E76BF3\"},\"name\":\"v U.A.E.\",\"notched\":false,\"offsetgroup\":\"v U.A.E.\",\"orientation\":\"v\",\"showlegend\":true,\"x\":[\"v U.A.E.\",\"v U.A.E.\"],\"x0\":\" \",\"xaxis\":\"x\",\"y\":[0.0,3.0],\"y0\":\" \",\"yaxis\":\"y\",\"type\":\"box\"},{\"alignmentgroup\":\"True\",\"hovertemplate\":\"opposition=%{x}\\u003cbr\\u003enew_wickets=%{y}\\u003cextra\\u003e\\u003c\\u002fextra\\u003e\",\"legendgroup\":\"v Kenya\",\"marker\":{\"color\":\"#F8766D\"},\"name\":\"v Kenya\",\"notched\":false,\"offsetgroup\":\"v Kenya\",\"orientation\":\"v\",\"showlegend\":true,\"x\":[\"v Kenya\",\"v Kenya\",\"v Kenya\",\"v Kenya\",\"v Kenya\",\"v Kenya\",\"v Kenya\",\"v Kenya\",\"v Kenya\",\"v Kenya\"],\"x0\":\" \",\"xaxis\":\"x\",\"y\":[0.0,0.0,0.0,0.0,0.0,null,null,null,null,2.0],\"y0\":\" \",\"yaxis\":\"y\",\"type\":\"box\"},{\"alignmentgroup\":\"True\",\"hovertemplate\":\"opposition=%{x}\\u003cbr\\u003enew_wickets=%{y}\\u003cextra\\u003e\\u003c\\u002fextra\\u003e\",\"legendgroup\":\"v Netherlands\",\"marker\":{\"color\":\"#A3A500\"},\"name\":\"v Netherlands\",\"notched\":false,\"offsetgroup\":\"v Netherlands\",\"orientation\":\"v\",\"showlegend\":true,\"x\":[\"v Netherlands\",\"v Netherlands\"],\"x0\":\" \",\"xaxis\":\"x\",\"y\":[0.0,null],\"y0\":\" \",\"yaxis\":\"y\",\"type\":\"box\"},{\"alignmentgroup\":\"True\",\"hovertemplate\":\"opposition=%{x}\\u003cbr\\u003enew_wickets=%{y}\\u003cextra\\u003e\\u003c\\u002fextra\\u003e\",\"legendgroup\":\"v Namibia\",\"marker\":{\"color\":\"#00BF7D\"},\"name\":\"v Namibia\",\"notched\":false,\"offsetgroup\":\"v Namibia\",\"orientation\":\"v\",\"showlegend\":true,\"x\":[\"v Namibia\"],\"x0\":\" \",\"xaxis\":\"x\",\"y\":[null],\"y0\":\" \",\"yaxis\":\"y\",\"type\":\"box\"},{\"alignmentgroup\":\"True\",\"hovertemplate\":\"opposition=%{x}\\u003cbr\\u003enew_wickets=%{y}\\u003cextra\\u003e\\u003c\\u002fextra\\u003e\",\"legendgroup\":\"v Bermuda\",\"marker\":{\"color\":\"#00B0F6\"},\"name\":\"v Bermuda\",\"notched\":false,\"offsetgroup\":\"v Bermuda\",\"orientation\":\"v\",\"showlegend\":true,\"x\":[\"v Bermuda\"],\"x0\":\" \",\"xaxis\":\"x\",\"y\":[1.0],\"y0\":\" \",\"yaxis\":\"y\",\"type\":\"box\"},{\"alignmentgroup\":\"True\",\"hovertemplate\":\"opposition=%{x}\\u003cbr\\u003enew_wickets=%{y}\\u003cextra\\u003e\\u003c\\u002fextra\\u003e\",\"legendgroup\":\"v Ireland\",\"marker\":{\"color\":\"#E76BF3\"},\"name\":\"v Ireland\",\"notched\":false,\"offsetgroup\":\"v Ireland\",\"orientation\":\"v\",\"showlegend\":true,\"x\":[\"v Ireland\",\"v Ireland\"],\"x0\":\" \",\"xaxis\":\"x\",\"y\":[1.0,null],\"y0\":\" \",\"yaxis\":\"y\",\"type\":\"box\"}],                        {\"template\":{\"data\":{\"barpolar\":[{\"marker\":{\"line\":{\"color\":\"rgb(237,237,237)\",\"width\":0.5},\"pattern\":{\"fillmode\":\"overlay\",\"size\":10,\"solidity\":0.2}},\"type\":\"barpolar\"}],\"bar\":[{\"error_x\":{\"color\":\"rgb(51,51,51)\"},\"error_y\":{\"color\":\"rgb(51,51,51)\"},\"marker\":{\"line\":{\"color\":\"rgb(237,237,237)\",\"width\":0.5},\"pattern\":{\"fillmode\":\"overlay\",\"size\":10,\"solidity\":0.2}},\"type\":\"bar\"}],\"carpet\":[{\"aaxis\":{\"endlinecolor\":\"rgb(51,51,51)\",\"gridcolor\":\"white\",\"linecolor\":\"white\",\"minorgridcolor\":\"white\",\"startlinecolor\":\"rgb(51,51,51)\"},\"baxis\":{\"endlinecolor\":\"rgb(51,51,51)\",\"gridcolor\":\"white\",\"linecolor\":\"white\",\"minorgridcolor\":\"white\",\"startlinecolor\":\"rgb(51,51,51)\"},\"type\":\"carpet\"}],\"choropleth\":[{\"colorbar\":{\"outlinewidth\":0,\"tickcolor\":\"rgb(237,237,237)\",\"ticklen\":6,\"ticks\":\"inside\"},\"type\":\"choropleth\"}],\"contourcarpet\":[{\"colorbar\":{\"outlinewidth\":0,\"tickcolor\":\"rgb(237,237,237)\",\"ticklen\":6,\"ticks\":\"inside\"},\"type\":\"contourcarpet\"}],\"contour\":[{\"colorbar\":{\"outlinewidth\":0,\"tickcolor\":\"rgb(237,237,237)\",\"ticklen\":6,\"ticks\":\"inside\"},\"colorscale\":[[0,\"rgb(20,44,66)\"],[1,\"rgb(90,179,244)\"]],\"type\":\"contour\"}],\"heatmapgl\":[{\"colorbar\":{\"outlinewidth\":0,\"tickcolor\":\"rgb(237,237,237)\",\"ticklen\":6,\"ticks\":\"inside\"},\"colorscale\":[[0,\"rgb(20,44,66)\"],[1,\"rgb(90,179,244)\"]],\"type\":\"heatmapgl\"}],\"heatmap\":[{\"colorbar\":{\"outlinewidth\":0,\"tickcolor\":\"rgb(237,237,237)\",\"ticklen\":6,\"ticks\":\"inside\"},\"colorscale\":[[0,\"rgb(20,44,66)\"],[1,\"rgb(90,179,244)\"]],\"type\":\"heatmap\"}],\"histogram2dcontour\":[{\"colorbar\":{\"outlinewidth\":0,\"tickcolor\":\"rgb(237,237,237)\",\"ticklen\":6,\"ticks\":\"inside\"},\"colorscale\":[[0,\"rgb(20,44,66)\"],[1,\"rgb(90,179,244)\"]],\"type\":\"histogram2dcontour\"}],\"histogram2d\":[{\"colorbar\":{\"outlinewidth\":0,\"tickcolor\":\"rgb(237,237,237)\",\"ticklen\":6,\"ticks\":\"inside\"},\"colorscale\":[[0,\"rgb(20,44,66)\"],[1,\"rgb(90,179,244)\"]],\"type\":\"histogram2d\"}],\"histogram\":[{\"marker\":{\"pattern\":{\"fillmode\":\"overlay\",\"size\":10,\"solidity\":0.2}},\"type\":\"histogram\"}],\"mesh3d\":[{\"colorbar\":{\"outlinewidth\":0,\"tickcolor\":\"rgb(237,237,237)\",\"ticklen\":6,\"ticks\":\"inside\"},\"type\":\"mesh3d\"}],\"parcoords\":[{\"line\":{\"colorbar\":{\"outlinewidth\":0,\"tickcolor\":\"rgb(237,237,237)\",\"ticklen\":6,\"ticks\":\"inside\"}},\"type\":\"parcoords\"}],\"pie\":[{\"automargin\":true,\"type\":\"pie\"}],\"scatter3d\":[{\"line\":{\"colorbar\":{\"outlinewidth\":0,\"tickcolor\":\"rgb(237,237,237)\",\"ticklen\":6,\"ticks\":\"inside\"}},\"marker\":{\"colorbar\":{\"outlinewidth\":0,\"tickcolor\":\"rgb(237,237,237)\",\"ticklen\":6,\"ticks\":\"inside\"}},\"type\":\"scatter3d\"}],\"scattercarpet\":[{\"marker\":{\"colorbar\":{\"outlinewidth\":0,\"tickcolor\":\"rgb(237,237,237)\",\"ticklen\":6,\"ticks\":\"inside\"}},\"type\":\"scattercarpet\"}],\"scattergeo\":[{\"marker\":{\"colorbar\":{\"outlinewidth\":0,\"tickcolor\":\"rgb(237,237,237)\",\"ticklen\":6,\"ticks\":\"inside\"}},\"type\":\"scattergeo\"}],\"scattergl\":[{\"marker\":{\"colorbar\":{\"outlinewidth\":0,\"tickcolor\":\"rgb(237,237,237)\",\"ticklen\":6,\"ticks\":\"inside\"}},\"type\":\"scattergl\"}],\"scattermapbox\":[{\"marker\":{\"colorbar\":{\"outlinewidth\":0,\"tickcolor\":\"rgb(237,237,237)\",\"ticklen\":6,\"ticks\":\"inside\"}},\"type\":\"scattermapbox\"}],\"scatterpolargl\":[{\"marker\":{\"colorbar\":{\"outlinewidth\":0,\"tickcolor\":\"rgb(237,237,237)\",\"ticklen\":6,\"ticks\":\"inside\"}},\"type\":\"scatterpolargl\"}],\"scatterpolar\":[{\"marker\":{\"colorbar\":{\"outlinewidth\":0,\"tickcolor\":\"rgb(237,237,237)\",\"ticklen\":6,\"ticks\":\"inside\"}},\"type\":\"scatterpolar\"}],\"scatter\":[{\"fillpattern\":{\"fillmode\":\"overlay\",\"size\":10,\"solidity\":0.2},\"type\":\"scatter\"}],\"scatterternary\":[{\"marker\":{\"colorbar\":{\"outlinewidth\":0,\"tickcolor\":\"rgb(237,237,237)\",\"ticklen\":6,\"ticks\":\"inside\"}},\"type\":\"scatterternary\"}],\"surface\":[{\"colorbar\":{\"outlinewidth\":0,\"tickcolor\":\"rgb(237,237,237)\",\"ticklen\":6,\"ticks\":\"inside\"},\"colorscale\":[[0,\"rgb(20,44,66)\"],[1,\"rgb(90,179,244)\"]],\"type\":\"surface\"}],\"table\":[{\"cells\":{\"fill\":{\"color\":\"rgb(237,237,237)\"},\"line\":{\"color\":\"white\"}},\"header\":{\"fill\":{\"color\":\"rgb(217,217,217)\"},\"line\":{\"color\":\"white\"}},\"type\":\"table\"}]},\"layout\":{\"annotationdefaults\":{\"arrowhead\":0,\"arrowwidth\":1},\"autotypenumbers\":\"strict\",\"coloraxis\":{\"colorbar\":{\"outlinewidth\":0,\"tickcolor\":\"rgb(237,237,237)\",\"ticklen\":6,\"ticks\":\"inside\"}},\"colorscale\":{\"sequential\":[[0,\"rgb(20,44,66)\"],[1,\"rgb(90,179,244)\"]],\"sequentialminus\":[[0,\"rgb(20,44,66)\"],[1,\"rgb(90,179,244)\"]]},\"colorway\":[\"#F8766D\",\"#A3A500\",\"#00BF7D\",\"#00B0F6\",\"#E76BF3\"],\"font\":{\"color\":\"rgb(51,51,51)\"},\"geo\":{\"bgcolor\":\"white\",\"lakecolor\":\"white\",\"landcolor\":\"rgb(237,237,237)\",\"showlakes\":true,\"showland\":true,\"subunitcolor\":\"white\"},\"hoverlabel\":{\"align\":\"left\"},\"hovermode\":\"closest\",\"paper_bgcolor\":\"white\",\"plot_bgcolor\":\"rgb(237,237,237)\",\"polar\":{\"angularaxis\":{\"gridcolor\":\"white\",\"linecolor\":\"white\",\"showgrid\":true,\"tickcolor\":\"rgb(51,51,51)\",\"ticks\":\"outside\"},\"bgcolor\":\"rgb(237,237,237)\",\"radialaxis\":{\"gridcolor\":\"white\",\"linecolor\":\"white\",\"showgrid\":true,\"tickcolor\":\"rgb(51,51,51)\",\"ticks\":\"outside\"}},\"scene\":{\"xaxis\":{\"backgroundcolor\":\"rgb(237,237,237)\",\"gridcolor\":\"white\",\"gridwidth\":2,\"linecolor\":\"white\",\"showbackground\":true,\"showgrid\":true,\"tickcolor\":\"rgb(51,51,51)\",\"ticks\":\"outside\",\"zerolinecolor\":\"white\"},\"yaxis\":{\"backgroundcolor\":\"rgb(237,237,237)\",\"gridcolor\":\"white\",\"gridwidth\":2,\"linecolor\":\"white\",\"showbackground\":true,\"showgrid\":true,\"tickcolor\":\"rgb(51,51,51)\",\"ticks\":\"outside\",\"zerolinecolor\":\"white\"},\"zaxis\":{\"backgroundcolor\":\"rgb(237,237,237)\",\"gridcolor\":\"white\",\"gridwidth\":2,\"linecolor\":\"white\",\"showbackground\":true,\"showgrid\":true,\"tickcolor\":\"rgb(51,51,51)\",\"ticks\":\"outside\",\"zerolinecolor\":\"white\"}},\"shapedefaults\":{\"fillcolor\":\"black\",\"line\":{\"width\":0},\"opacity\":0.3},\"ternary\":{\"aaxis\":{\"gridcolor\":\"white\",\"linecolor\":\"white\",\"showgrid\":true,\"tickcolor\":\"rgb(51,51,51)\",\"ticks\":\"outside\"},\"baxis\":{\"gridcolor\":\"white\",\"linecolor\":\"white\",\"showgrid\":true,\"tickcolor\":\"rgb(51,51,51)\",\"ticks\":\"outside\"},\"bgcolor\":\"rgb(237,237,237)\",\"caxis\":{\"gridcolor\":\"white\",\"linecolor\":\"white\",\"showgrid\":true,\"tickcolor\":\"rgb(51,51,51)\",\"ticks\":\"outside\"}},\"xaxis\":{\"automargin\":true,\"gridcolor\":\"white\",\"linecolor\":\"white\",\"showgrid\":true,\"tickcolor\":\"rgb(51,51,51)\",\"ticks\":\"outside\",\"title\":{\"standoff\":15},\"zerolinecolor\":\"white\"},\"yaxis\":{\"automargin\":true,\"gridcolor\":\"white\",\"linecolor\":\"white\",\"showgrid\":true,\"tickcolor\":\"rgb(51,51,51)\",\"ticks\":\"outside\",\"title\":{\"standoff\":15},\"zerolinecolor\":\"white\"}}},\"xaxis\":{\"anchor\":\"y\",\"domain\":[0.0,1.0],\"title\":{\"text\":\"Opposition\"},\"categoryorder\":\"array\",\"categoryarray\":[\"v Pakistan\",\"v New Zealand\",\"v Sri Lanka\",\"v England\",\"v Bangladesh\",\"v West Indies\",\"v South Africa\",\"v Australia\",\"v Zimbabwe\",\"v U.A.E.\",\"v Kenya\",\"v Netherlands\",\"v Namibia\",\"v Bermuda\",\"v Ireland\"]},\"yaxis\":{\"anchor\":\"x\",\"domain\":[0.0,1.0],\"title\":{\"text\":\"Wickets Taken\"}},\"legend\":{\"title\":{\"text\":\"opposition\"},\"tracegroupgap\":0},\"title\":{\"text\":\"Wickets vs Opposition\",\"font\":{\"size\":18}},\"boxmode\":\"group\"},                        {\"responsive\": true}                    ).then(function(){\n",
       "                            \n",
       "var gd = document.getElementById('dd1cb1c3-a79b-4e73-a679-da29e7911b86');\n",
       "var x = new MutationObserver(function (mutations, observer) {{\n",
       "        var display = window.getComputedStyle(gd).display;\n",
       "        if (!display || display === 'none') {{\n",
       "            console.log([gd, 'removed!']);\n",
       "            Plotly.purge(gd);\n",
       "            observer.disconnect();\n",
       "        }}\n",
       "}});\n",
       "\n",
       "// Listen for the removal of the full notebook cells\n",
       "var notebookContainer = gd.closest('#notebook-container');\n",
       "if (notebookContainer) {{\n",
       "    x.observe(notebookContainer, {childList: true});\n",
       "}}\n",
       "\n",
       "// Listen for the clearing of the current output cell\n",
       "var outputEl = gd.closest('.output');\n",
       "if (outputEl) {{\n",
       "    x.observe(outputEl, {childList: true});\n",
       "}}\n",
       "\n",
       "                        })                };                });            </script>        </div>"
      ]
     },
     "metadata": {},
     "output_type": "display_data"
    },
    {
     "data": {
      "text/plain": [
       "<Figure size 1000x600 with 0 Axes>"
      ]
     },
     "metadata": {},
     "output_type": "display_data"
    }
   ],
   "source": [
    "fig = px.box(df, \n",
    "             x='opposition', y='new_wickets', \n",
    "             color='opposition', \n",
    "             title=\"Wickets vs Opposition\",\n",
    "             template='ggplot2') \n",
    "fig.update_layout(\n",
    "    title_font_size=18,\n",
    "    xaxis_title=\"Opposition\",\n",
    "    yaxis_title=\"Wickets Taken\",\n",
    "    boxmode='group')\n",
    "plt.savefig(\"Wickets_VS_Opposition.png\")\n",
    "fig.show()"
   ]
  },
  {
   "cell_type": "markdown",
   "id": "61119649-8ec2-463e-8d09-c84fc871bd8f",
   "metadata": {},
   "source": [
    "### Heatmap of Contribution"
   ]
  },
  {
   "cell_type": "code",
   "execution_count": 201,
   "id": "423906b0-0b62-41b6-982d-0308523efcda",
   "metadata": {},
   "outputs": [
    {
     "data": {
      "image/png": "[encoded data removed]",
      "text/plain": [
       "<Figure size 1000x600 with 2 Axes>"
      ]
     },
     "metadata": {},
     "output_type": "display_data"
    }
   ],
   "source": [
    "pivot = pd.pivot_table(df, values='batting_score_clean', index='opposition', columns='match_result', aggfunc='count')\n",
    "sns.heatmap(pivot, annot=True, cmap='YlGnBu')\n",
    "plt.title(\"Matches by Result and Opposition\")\n",
    "plt.savefig(\"Matches_by_Result_and_Opposition.png\")\n",
    "plt.show()"
   ]
  },
  {
   "cell_type": "markdown",
   "id": "08a36927-26cc-4adc-9765-26dff52ac51d",
   "metadata": {},
   "source": [
    "## 📋 Summary Statistics"
   ]
  },
  {
   "cell_type": "code",
   "execution_count": 137,
   "id": "83afd9d2-efd4-49b4-a26b-a8c7de545ded",
   "metadata": {},
   "outputs": [
    {
     "name": "stdout",
     "output_type": "stream",
     "text": [
      "Total Matches Played: 463\n",
      "Total Runs Scored: 18426.0\n",
      "Average Runs: 40.76548672566372\n",
      "Total Wickets: 154.0\n",
      "Max Wickets in a Match: 5.0\n",
      "Total Catches: 140.0\n",
      "Total Stumpings: 0.0\n"
     ]
    }
   ],
   "source": [
    "print(\"Total Matches Played:\", df.shape[0])\n",
    "print(\"Total Runs Scored:\", df['batting_score_clean'].sum())\n",
    "print(\"Average Runs:\", df['batting_score_clean'].mean())\n",
    "print(\"Total Wickets:\", df['new_wickets'].sum())\n",
    "print(\"Max Wickets in a Match:\", df['new_wickets'].max())\n",
    "print(\"Total Catches:\", df['catches'].sum())\n",
    "print(\"Total Stumpings:\", df['stumps'].sum())"
   ]
  },
  {
   "cell_type": "markdown",
   "id": "9db93680-2b65-420e-b410-501b9bf50d6d",
   "metadata": {},
   "source": [
    "## 🏁 Summary Report"
   ]
  },
  {
   "cell_type": "code",
   "execution_count": 139,
   "id": "a303f153-7591-4a66-ab97-5fe482a394ce",
   "metadata": {},
   "outputs": [
    {
     "name": "stdout",
     "output_type": "stream",
     "text": [
      "Total Matches: 463\n",
      "Total Runs: 18426.0\n",
      "Total 100s: 49\n",
      "Total 50s: 96\n",
      "Highest Score: 200.0\n",
      "Total Wickets: 154.0\n",
      "5-Wicket Hauls: 2\n",
      "Total Catches: 140.0\n",
      "Total Stumpings: 0.0\n"
     ]
    }
   ],
   "source": [
    "summary = {\n",
    "    \"Total Matches\": df.shape[0],\n",
    "    \"Total Runs\": df['batting_score_clean'].sum(),\n",
    "    \"Total 100s\": centuries,\n",
    "    \"Total 50s\": half_centuries,\n",
    "    \"Highest Score\": df['batting_score_clean'].max(),\n",
    "    \"Total Wickets\": df['new_wickets'].sum(),\n",
    "    \"5-Wicket Hauls\": df[df['new_wickets'] >= 5].shape[0],\n",
    "    \"Total Catches\": df['catches'].sum(),\n",
    "    \"Total Stumpings\": df['stumps'].sum(),\n",
    "}\n",
    "\n",
    "for k, v in summary.items():\n",
    "    print(f\"{k}: {v}\")\n"
   ]
  }
 ],
 "metadata": {
  "kernelspec": {
   "display_name": "Python 3 (ipykernel)",
   "language": "python",
   "name": "python3"
  },
  "language_info": {
   "codemirror_mode": {
    "name": "ipython",
    "version": 3
   },
   "file_extension": ".py",
   "mimetype": "text/x-python",
   "name": "python",
   "nbconvert_exporter": "python",
   "pygments_lexer": "ipython3",
   "version": "3.12.4"
  }
 },
 "nbformat": 4,
 "nbformat_minor": 5
}
